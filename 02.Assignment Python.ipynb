{
 "cells": [
  {
   "cell_type": "markdown",
   "id": "1326e10a-b7bc-4a30-8018-feed8f5294e1",
   "metadata": {},
   "source": [
    "### 1. User-Defined Function (5 Questions) "
   ]
  },
  {
   "cell_type": "markdown",
   "id": "298b73ba-348a-4b4f-a4eb-d7c035f25fda",
   "metadata": {},
   "source": [
    "##### 1. Write a function to calculate the factorial of a number (without recursion)."
   ]
  },
  {
   "cell_type": "code",
   "execution_count": 3,
   "id": "08a52f3a-2e99-4f85-9a1e-aa15b50dda67",
   "metadata": {},
   "outputs": [],
   "source": [
    "def factorial(n):\n",
    "    result = 1\n",
    "    for i in range(1, n+1):   # multiply numbers from 1 to n\n",
    "        result = result * i\n",
    "    return result"
   ]
  },
  {
   "cell_type": "code",
   "execution_count": 4,
   "id": "5875f099-3c50-479b-a5a2-212ba9932b53",
   "metadata": {},
   "outputs": [
    {
     "data": {
      "text/plain": [
       "5040"
      ]
     },
     "execution_count": 4,
     "metadata": {},
     "output_type": "execute_result"
    }
   ],
   "source": [
    "factorial(7)"
   ]
  },
  {
   "cell_type": "markdown",
   "id": "2211a99f-92f6-4e3d-a601-7b3637d5bd99",
   "metadata": {},
   "source": [
    "##### *****2. Write a function to check if a number is Armstrong or not."
   ]
  },
  {
   "cell_type": "code",
   "execution_count": 5,
   "id": "6d1bad18-8288-41bd-a49b-9bde5cd274e8",
   "metadata": {},
   "outputs": [],
   "source": [
    "def is_armstrong(num):\n",
    "    digits = list(map(int, str(num)))   # convert each digit to integer\n",
    "    power = len(digits)                 # number of digits\n",
    "    total = sum(d ** power for d in digits)\n",
    "    \n",
    "    if total == num:\n",
    "        print(num, \"is an Armstrong number\")\n",
    "    else:\n",
    "        print(num, \"is NOT an Armstrong number\")"
   ]
  },
  {
   "cell_type": "code",
   "execution_count": 6,
   "id": "d0d762c5-52a4-4959-813f-d5359217a425",
   "metadata": {},
   "outputs": [
    {
     "name": "stdout",
     "output_type": "stream",
     "text": [
      "153 is an Armstrong number\n"
     ]
    }
   ],
   "source": [
    "is_armstrong(153)"
   ]
  },
  {
   "cell_type": "code",
   "execution_count": 7,
   "id": "ecf7e869-816d-494e-a48d-20fa47ae21fc",
   "metadata": {},
   "outputs": [
    {
     "name": "stdout",
     "output_type": "stream",
     "text": [
      "134 is NOT an Armstrong number\n"
     ]
    }
   ],
   "source": [
    "is_armstrong(134)"
   ]
  },
  {
   "cell_type": "markdown",
   "id": "5c2907b1-c027-44b1-9508-379c1a179808",
   "metadata": {},
   "source": [
    "##### 3. Write a function that takes a list of numbers and returns only even numbers. "
   ]
  },
  {
   "cell_type": "code",
   "execution_count": 8,
   "id": "594ffdc7-df06-4506-86c9-3145413334e9",
   "metadata": {},
   "outputs": [],
   "source": [
    "def get_even_numbers(numbers):\n",
    "    evens = []\n",
    "    for n in numbers:\n",
    "        if n % 2 == 0:   # check even\n",
    "            evens.append(n)\n",
    "    return evens"
   ]
  },
  {
   "cell_type": "code",
   "execution_count": 9,
   "id": "7d356ae0-3012-4c98-a475-44f47bbbb77e",
   "metadata": {},
   "outputs": [
    {
     "data": {
      "text/plain": [
       "[2, 4, 6, 8]"
      ]
     },
     "execution_count": 9,
     "metadata": {},
     "output_type": "execute_result"
    }
   ],
   "source": [
    "numbers = (1,2,3,4,5,6,7,8,9)\n",
    "get_even_numbers(numbers)"
   ]
  },
  {
   "cell_type": "markdown",
   "id": "7a9b5ba0-d971-43b2-977b-4e86fbd24f3a",
   "metadata": {},
   "source": [
    "##### 4. Write a function that takes a string and returns the reverse of the string. "
   ]
  },
  {
   "cell_type": "code",
   "execution_count": 10,
   "id": "9c31f18d-123f-4ad5-9666-d30bd911a6f6",
   "metadata": {},
   "outputs": [],
   "source": [
    "def reverse_string(s):\n",
    "    return s[::-1]"
   ]
  },
  {
   "cell_type": "code",
   "execution_count": 11,
   "id": "95b0407e-1901-4843-8987-fdfb34abb083",
   "metadata": {},
   "outputs": [
    {
     "data": {
      "text/plain": [
       "'kashish'"
      ]
     },
     "execution_count": 11,
     "metadata": {},
     "output_type": "execute_result"
    }
   ],
   "source": [
    "s = \"hsihsak\"\n",
    "reverse_string(s)"
   ]
  },
  {
   "cell_type": "markdown",
   "id": "6348326e-b46b-41f4-a90d-d4ff0294a2ba",
   "metadata": {},
   "source": [
    "##### *****5. Write a recursive function to calculate Fibonacci series up to n terms."
   ]
  },
  {
   "cell_type": "code",
   "execution_count": 13,
   "id": "67efaaca-65cf-4993-b814-9d1266ec8fbd",
   "metadata": {},
   "outputs": [
    {
     "name": "stdin",
     "output_type": "stream",
     "text": [
      "Enter number of terms:  10\n"
     ]
    },
    {
     "name": "stdout",
     "output_type": "stream",
     "text": [
      "0 1 1 2 3 5 8 13 21 34 "
     ]
    }
   ],
   "source": [
    "def fib(n):\n",
    "    if n <= 1:            # base case\n",
    "        return n\n",
    "    return fib(n-1) + fib(n-2)\n",
    "\n",
    "n = int(input(\"Enter number of terms: \"))\n",
    "for i in range(n):\n",
    "    print(fib(i), end=\" \")\n"
   ]
  },
  {
   "cell_type": "markdown",
   "id": "ef3729c4-186d-4f94-9b9a-e75e1d9586fb",
   "metadata": {},
   "source": [
    "### 2. Lambda Function (5 Questions) "
   ]
  },
  {
   "cell_type": "markdown",
   "id": "630ab5ee-99f0-49ed-9a43-4baab6ac5cc8",
   "metadata": {},
   "source": [
    "##### 6. Write a lambda function to find the maximum of two numbers. "
   ]
  },
  {
   "cell_type": "code",
   "execution_count": 14,
   "id": "07f383ee-86e8-4070-a74f-2cd4e0fe7ee0",
   "metadata": {},
   "outputs": [
    {
     "name": "stdout",
     "output_type": "stream",
     "text": [
      "Maximum: 56\n"
     ]
    }
   ],
   "source": [
    "maximum = lambda a, b: a if a > b else b\n",
    "print(\"Maximum:\", maximum(56, 35))"
   ]
  },
  {
   "cell_type": "markdown",
   "id": "2a5253be-03e1-4b32-b478-f5a6e99accd2",
   "metadata": {},
   "source": [
    "##### 7. Write a lambda function to count vowels in a given string. "
   ]
  },
  {
   "cell_type": "code",
   "execution_count": 15,
   "id": "04a65235-5b07-4115-a7c4-3de6face1b27",
   "metadata": {},
   "outputs": [
    {
     "name": "stdout",
     "output_type": "stream",
     "text": [
      "Vowel count: 3\n"
     ]
    }
   ],
   "source": [
    "count_vowels = lambda s: sum(1 for ch in s.lower() if ch in \"aeiou\")\n",
    "text = \"Hello World\"\n",
    "print(\"Vowel count:\", count_vowels(text))"
   ]
  },
  {
   "cell_type": "markdown",
   "id": "ff594a6d-9921-4df5-9ec7-62a30aa11bbf",
   "metadata": {},
   "source": [
    "##### 8. Use a lambda with map() to convert a list of integers into their cubes. "
   ]
  },
  {
   "cell_type": "code",
   "execution_count": 16,
   "id": "9f21cebe-913d-46fa-8545-076cbad7bc85",
   "metadata": {},
   "outputs": [
    {
     "name": "stdout",
     "output_type": "stream",
     "text": [
      "Cubes: [1, 8, 27, 64, 125]\n"
     ]
    }
   ],
   "source": [
    "nums = [1, 2, 3, 4, 5]\n",
    "cubes = list(map(lambda x: x**3, nums))\n",
    "\n",
    "print(\"Cubes:\", cubes)"
   ]
  },
  {
   "cell_type": "markdown",
   "id": "abb45ee7-9416-46fe-a68b-080d5e5be4b6",
   "metadata": {},
   "source": [
    "##### 9. Use a lambda with filter() to find numbers divisible by 5 from a list. "
   ]
  },
  {
   "cell_type": "code",
   "execution_count": 17,
   "id": "c11d9111-2a03-45d6-96df-7ebb0acdcdc1",
   "metadata": {},
   "outputs": [
    {
     "name": "stdout",
     "output_type": "stream",
     "text": [
      "Divisible by 5: [10, 15, 50, 100]\n"
     ]
    }
   ],
   "source": [
    "nums = [10, 15, 23, 50, 7, 100]\n",
    "divisible_by_5 = list(filter(lambda x: x % 5 == 0, nums))\n",
    "\n",
    "print(\"Divisible by 5:\", divisible_by_5)"
   ]
  },
  {
   "cell_type": "markdown",
   "id": "12ed9943-2e7e-4221-9300-1efc8b38b960",
   "metadata": {},
   "source": [
    "##### 10. Use reduce() with lambda to find the product of all numbers in a list."
   ]
  },
  {
   "cell_type": "code",
   "execution_count": 18,
   "id": "c9bdda18-0b2f-46c5-b6e1-33ce97c65f30",
   "metadata": {},
   "outputs": [
    {
     "name": "stdout",
     "output_type": "stream",
     "text": [
      "Product of list: 120\n"
     ]
    }
   ],
   "source": [
    "from functools import reduce\n",
    "\n",
    "nums = [1, 2, 3, 4, 5]\n",
    "product = reduce(lambda x, y: x * y, nums)\n",
    "\n",
    "print(\"Product of list:\", product)"
   ]
  },
  {
   "cell_type": "markdown",
   "id": "5c9a2d2f-015e-4654-adc4-15cc8a0f5a16",
   "metadata": {},
   "source": [
    "### 3. List Comprehension (5 Questions) "
   ]
  },
  {
   "cell_type": "markdown",
   "id": "3ea2fc99-5178-4f0f-8ec4-49213f4ca0e2",
   "metadata": {},
   "source": [
    "##### 11. Create a list of squares of numbers from 1 to 20 using list comprehension. "
   ]
  },
  {
   "cell_type": "code",
   "execution_count": 19,
   "id": "4b99ab22-1aa6-47f8-8c58-1ce8a584b1ff",
   "metadata": {},
   "outputs": [
    {
     "name": "stdout",
     "output_type": "stream",
     "text": [
      "Squares: [1, 4, 9, 16, 25, 36, 49, 64, 81, 100, 121, 144, 169, 196, 225, 256, 289, 324, 361, 400]\n"
     ]
    }
   ],
   "source": [
    "squares = [x**2 for x in range(1, 21)]\n",
    "print(\"Squares:\", squares)\n"
   ]
  },
  {
   "cell_type": "markdown",
   "id": "5e5da570-6a4a-4423-b6e1-f853baa13b1e",
   "metadata": {},
   "source": [
    "##### 12. Extract all words starting with vowel from a list of words. "
   ]
  },
  {
   "cell_type": "code",
   "execution_count": 20,
   "id": "1ca74a38-c907-40da-8c4c-deef566ade01",
   "metadata": {},
   "outputs": [
    {
     "name": "stdout",
     "output_type": "stream",
     "text": [
      "Words starting with vowel: ['apple', 'orange', 'umbrella']\n"
     ]
    }
   ],
   "source": [
    "words = [\"apple\", \"banana\", \"orange\", \"grapes\", \"umbrella\", \"cat\"]\n",
    "vowel_words = [w for w in words if w[0].lower() in \"aeiou\"]\n",
    "\n",
    "print(\"Words starting with vowel:\", vowel_words)\n"
   ]
  },
  {
   "cell_type": "markdown",
   "id": "f005a41b-94cf-4219-8122-fa3b9e19128c",
   "metadata": {},
   "source": [
    "##### 13. Generate a list of tuples (x, x^2) for numbers from 1 to 10. "
   ]
  },
  {
   "cell_type": "code",
   "execution_count": 21,
   "id": "e3e7a4e6-2188-4e9a-bb65-21d707983240",
   "metadata": {},
   "outputs": [
    {
     "name": "stdout",
     "output_type": "stream",
     "text": [
      "Tuples: [(1, 1), (2, 4), (3, 9), (4, 16), (5, 25), (6, 36), (7, 49), (8, 64), (9, 81), (10, 100)]\n"
     ]
    }
   ],
   "source": [
    "tuples_list = [(x, x**2) for x in range(1, 11)]\n",
    "print(\"Tuples:\", tuples_list)\n"
   ]
  },
  {
   "cell_type": "markdown",
   "id": "2e548af3-93af-4c4d-95ec-8f37fea109c1",
   "metadata": {},
   "source": [
    "##### 14. Flatten a 2D list using list comprehension. "
   ]
  },
  {
   "cell_type": "code",
   "execution_count": 22,
   "id": "21732a11-f166-4756-9167-055bd546ec30",
   "metadata": {},
   "outputs": [
    {
     "name": "stdout",
     "output_type": "stream",
     "text": [
      "Flattened list: [1, 2, 3, 4, 5, 6]\n"
     ]
    }
   ],
   "source": [
    "matrix = [[1, 2], [3, 4], [5, 6]]\n",
    "flattened = [num for row in matrix for num in row]\n",
    "\n",
    "print(\"Flattened list:\", flattened)\n"
   ]
  },
  {
   "cell_type": "markdown",
   "id": "223d9eac-31bd-4f17-b856-0612f8b7c74f",
   "metadata": {},
   "source": [
    "##### 15. Create a list of prime numbers between 1 and 50 using list comprehension."
   ]
  },
  {
   "cell_type": "code",
   "execution_count": 23,
   "id": "0a29379c-aef2-4e1e-ac2f-290cf1fad038",
   "metadata": {},
   "outputs": [
    {
     "name": "stdout",
     "output_type": "stream",
     "text": [
      "Primes: [2, 3, 5, 7, 11, 13, 17, 19, 23, 29, 31, 37, 41, 43, 47]\n"
     ]
    }
   ],
   "source": [
    "primes = [x for x in range(2, 51) if all(x % i != 0 for i in range(2, int(x**0.5)+1))]\n",
    "print(\"Primes:\", primes)\n"
   ]
  },
  {
   "cell_type": "markdown",
   "id": "d3d16d32-a19f-4721-b3b9-1778210790ce",
   "metadata": {},
   "source": [
    "### 4. Class (5 Questions) "
   ]
  },
  {
   "cell_type": "markdown",
   "id": "df4666a7-9057-4910-a6d2-31919116aeb6",
   "metadata": {},
   "source": [
    "##### 16. Create a class Student with attributes name and marks, and a method to display details. "
   ]
  },
  {
   "cell_type": "code",
   "execution_count": 24,
   "id": "e2ffb57c-949a-493e-a009-0a377681a99d",
   "metadata": {},
   "outputs": [],
   "source": [
    "class Student:\n",
    "    def __init__(self, name, marks):\n",
    "        self.name = name\n",
    "        self.marks = marks\n",
    "\n",
    "    def display(self):\n",
    "        print(self.name, self.marks)    "
   ]
  },
  {
   "cell_type": "code",
   "execution_count": 25,
   "id": "288df0b9-e52a-45ed-a627-2388ad4446f5",
   "metadata": {},
   "outputs": [
    {
     "name": "stdout",
     "output_type": "stream",
     "text": [
      "Alice 85\n"
     ]
    }
   ],
   "source": [
    "s = Student(\"Alice\", 85)\n",
    "s.display()"
   ]
  },
  {
   "cell_type": "markdown",
   "id": "ee60cc90-5ad5-4a34-93c5-ac3cd0ebfee0",
   "metadata": {},
   "source": [
    "##### 17. Create a class BankAccount with deposit and withdraw methods. "
   ]
  },
  {
   "cell_type": "code",
   "execution_count": 26,
   "id": "f8692b38-1e35-4ec6-82dd-06ddd7bd6192",
   "metadata": {},
   "outputs": [],
   "source": [
    "class BankAccount:\n",
    "    def __init__(self):\n",
    "        self.balance = 0\n",
    "\n",
    "    def deposit(self, amount):\n",
    "        self.balance += amount\n",
    "\n",
    "    def withdraw(self, amount):\n",
    "        if amount <= self.balance:\n",
    "            self.balance -= amount\n",
    "\n",
    "    def show_balance(self):\n",
    "        print(\"Balance:\", self.balance)"
   ]
  },
  {
   "cell_type": "code",
   "execution_count": 27,
   "id": "b1a186f9-0e90-4fc1-a1c9-d7f06be3ddee",
   "metadata": {},
   "outputs": [
    {
     "name": "stdout",
     "output_type": "stream",
     "text": [
      "Balance: 950\n"
     ]
    }
   ],
   "source": [
    "acc = BankAccount()\n",
    "acc.deposit(1000)\n",
    "acc.withdraw(50)\n",
    "acc.show_balance()"
   ]
  },
  {
   "cell_type": "markdown",
   "id": "be2e7e4b-c292-4353-bfc1-416a4e5d5d50",
   "metadata": {},
   "source": [
    "##### 18. Create a class Circle with a method to calculate area and circumference. "
   ]
  },
  {
   "cell_type": "code",
   "execution_count": 28,
   "id": "9cb6ae2e-e2c4-4fcf-95e3-5196f3ee0aae",
   "metadata": {},
   "outputs": [],
   "source": [
    "import math\n",
    "\n",
    "class Circle:\n",
    "    def __init__(self, radius):\n",
    "        self.radius = radius\n",
    "\n",
    "    def area(self):\n",
    "        return math.pi * self.radius ** 2\n",
    "\n",
    "    def circumference(self):\n",
    "        return 2 * math.pi * self.radius"
   ]
  },
  {
   "cell_type": "code",
   "execution_count": 29,
   "id": "4db30f18-ad5b-4245-a366-b32bd10133fc",
   "metadata": {},
   "outputs": [
    {
     "name": "stdout",
     "output_type": "stream",
     "text": [
      "Area: 78.53981633974483\n",
      "Circumference: 31.41592653589793\n"
     ]
    }
   ],
   "source": [
    "c = Circle(5)\n",
    "print(\"Area:\", c.area())\n",
    "print(\"Circumference:\", c.circumference())"
   ]
  },
  {
   "cell_type": "markdown",
   "id": "f0e16fa6-99b6-4a36-894f-e7c3e5ed0593",
   "metadata": {},
   "source": [
    "##### 19. Create a class Employee that increases salary by 10%. "
   ]
  },
  {
   "cell_type": "code",
   "execution_count": 30,
   "id": "a06fbeb1-885d-4fbe-bfca-ddb05f1ecd99",
   "metadata": {},
   "outputs": [],
   "source": [
    "class Employee:\n",
    "    def __init__(self, name, salary):\n",
    "        self.name = name\n",
    "        self.salary = salary\n",
    "\n",
    "    def increase_salary(self):\n",
    "        self.salary *= 1.1  # Add 10%\n",
    "        print(\"New salary:\", self.salary)"
   ]
  },
  {
   "cell_type": "code",
   "execution_count": 31,
   "id": "91aad2c4-7746-4388-bd49-02c3075c0287",
   "metadata": {},
   "outputs": [
    {
     "name": "stdout",
     "output_type": "stream",
     "text": [
      "New salary: 22000.0\n"
     ]
    }
   ],
   "source": [
    "e = Employee(\"vicky\", 20000)\n",
    "e.increase_salary()"
   ]
  },
  {
   "cell_type": "markdown",
   "id": "0e842b53-ba90-4779-977e-4f12b6f8d616",
   "metadata": {},
   "source": [
    "##### 20. Create a class Car with methods to start, stop, and display status."
   ]
  },
  {
   "cell_type": "code",
   "execution_count": 32,
   "id": "3088f177-7c2c-4fa4-860d-0e7ddc8fa9b5",
   "metadata": {},
   "outputs": [
    {
     "name": "stdout",
     "output_type": "stream",
     "text": [
      "Car started\n",
      "Car is running\n",
      "Car stopped\n",
      "Car is stopped\n"
     ]
    }
   ],
   "source": [
    "class Car:\n",
    "    def __init__(self):\n",
    "        self.running = False\n",
    "\n",
    "    def start(self):\n",
    "        self.running = True\n",
    "        print(\"Car started\")\n",
    "\n",
    "    def stop(self):\n",
    "        self.running = False\n",
    "        print(\"Car stopped\")\n",
    "\n",
    "    def status(self):\n",
    "        if self.running:\n",
    "            print(\"Car is running\")\n",
    "        else:\n",
    "            print(\"Car is stopped\")\n",
    "\n",
    "# Example\n",
    "my_car = Car()\n",
    "my_car.start()\n",
    "my_car.status()\n",
    "my_car.stop()\n",
    "my_car.status()\n"
   ]
  },
  {
   "cell_type": "markdown",
   "id": "bb526050-e795-41a0-b8bb-ff8726ffed91",
   "metadata": {},
   "source": [
    "### 5. Inheritance (5 Questions) "
   ]
  },
  {
   "cell_type": "markdown",
   "id": "7be0b47d-cb00-4fe3-b5cd-65cd0e59cf4d",
   "metadata": {},
   "source": [
    "##### 21. Create a base class Animal and a derived class Dog that overrides a method."
   ]
  },
  {
   "cell_type": "code",
   "execution_count": 33,
   "id": "4fecec2c-0c6d-4331-a47f-3d4b777c8e5f",
   "metadata": {},
   "outputs": [
    {
     "name": "stdout",
     "output_type": "stream",
     "text": [
      "Some sound\n",
      "Bark\n"
     ]
    }
   ],
   "source": [
    "class Animal:\n",
    "    def sound(self):\n",
    "        print(\"Some sound\")\n",
    "\n",
    "class Dog(Animal):\n",
    "    def sound(self):\n",
    "        print(\"Bark\")\n",
    "\n",
    "# Test\n",
    "a = Animal()\n",
    "a.sound()  # Some sound\n",
    "\n",
    "d = Dog()\n",
    "d.sound()  # Bark\n"
   ]
  },
  {
   "cell_type": "markdown",
   "id": "bc2fea89-8777-4150-a84b-5ec493bd743b",
   "metadata": {},
   "source": [
    "##### *****22. Create a base class Shape with method area(). Inherit Rectangle and Circle classes to \n",
    "##### implement area calculation. "
   ]
  },
  {
   "cell_type": "code",
   "execution_count": 34,
   "id": "fe8cabb7-fb95-4b3f-a468-f42d1e9861a6",
   "metadata": {},
   "outputs": [
    {
     "name": "stdout",
     "output_type": "stream",
     "text": [
      "15\n",
      "50.24\n"
     ]
    }
   ],
   "source": [
    "class Shape:\n",
    "    def area(self):\n",
    "        pass\n",
    "\n",
    "class Rectangle(Shape):\n",
    "    def __init__(self, w, h):\n",
    "        self.w = w\n",
    "        self.h = h\n",
    "    def area(self):\n",
    "        return self.w * self.h\n",
    "\n",
    "class Circle(Shape):\n",
    "    def __init__(self, r):\n",
    "        self.r = r\n",
    "    def area(self):\n",
    "        return 3.14 * self.r * self.r\n",
    "\n",
    "# Test\n",
    "print(Rectangle(5,3).area())  # 15\n",
    "print(Circle(4).area())       # 50.24\n"
   ]
  },
  {
   "cell_type": "markdown",
   "id": "26475d6a-8be5-474a-98ca-4a58f2ef88b7",
   "metadata": {},
   "source": [
    "##### *****23. Create a Person class and inherit Student and Teacher from it with additional attributes. "
   ]
  },
  {
   "cell_type": "code",
   "execution_count": 1,
   "id": "71fa97ef-2ab8-4172-8241-3b7957c18c83",
   "metadata": {},
   "outputs": [
    {
     "name": "stdout",
     "output_type": "stream",
     "text": [
      "Student: Kiki 20 S101\n",
      "Teacher: Rao 40 Math\n"
     ]
    }
   ],
   "source": [
    "# Parent class\n",
    "class Person:\n",
    "    def __init__(self, name, age):\n",
    "        self.name = name\n",
    "        self.age = age\n",
    "\n",
    "# Child class\n",
    "class Student(Person):\n",
    "    def __init__(self, name, age, roll):\n",
    "        Person.__init__(self, name, age)   # call parent\n",
    "        self.roll = roll\n",
    "\n",
    "class Teacher(Person):\n",
    "    def __init__(self, name, age, subject):\n",
    "        Person.__init__(self, name, age)\n",
    "        self.subject = subject\n",
    "\n",
    "# Create objects\n",
    "s = Student(\"Kiki\", 20, \"S101\")\n",
    "t = Teacher(\"Rao\", 40, \"Math\")\n",
    "\n",
    "# Print details\n",
    "print(\"Student:\", s.name, s.age, s.roll)\n",
    "print(\"Teacher:\", t.name, t.age, t.subject)\n",
    "\n"
   ]
  },
  {
   "cell_type": "markdown",
   "id": "923c8cd9-650f-4ed7-9ea8-5f368e3dd3b2",
   "metadata": {},
   "source": [
    "##### 24. Create a Vehicle class and inherit Car and Bike with their specific features. "
   ]
  },
  {
   "cell_type": "code",
   "execution_count": 36,
   "id": "c1778fa8-3112-459a-b66c-48f9942f6f2c",
   "metadata": {},
   "outputs": [
    {
     "name": "stdout",
     "output_type": "stream",
     "text": [
      "4\n",
      "2\n"
     ]
    }
   ],
   "source": [
    "class Vehicle:\n",
    "    def __init__(self, brand):\n",
    "        self.brand = brand\n",
    "\n",
    "class Car(Vehicle):\n",
    "    def wheels(self):\n",
    "        return 4\n",
    "\n",
    "class Bike(Vehicle):\n",
    "    def wheels(self):\n",
    "        return 2\n",
    "\n",
    "# Test\n",
    "print(Car(\"Toyota\").wheels())  # 4\n",
    "print(Bike(\"Honda\").wheels())  # 2\n"
   ]
  },
  {
   "cell_type": "markdown",
   "id": "04d4353f-df0f-44ad-afc5-bbf04502b53a",
   "metadata": {},
   "source": [
    "##### 25. Demonstrate multiple inheritance with a StudentAthlete class (inheriting from Student \n",
    "##### and Athlete). "
   ]
  },
  {
   "cell_type": "code",
   "execution_count": 37,
   "id": "d527fdd4-5e5a-43ac-9ce3-59ab83e354d7",
   "metadata": {},
   "outputs": [
    {
     "name": "stdout",
     "output_type": "stream",
     "text": [
      "Studying\n",
      "Playing sports\n"
     ]
    }
   ],
   "source": [
    "class Student:\n",
    "    def study(self):\n",
    "        print(\"Studying\")\n",
    "\n",
    "class Athlete:\n",
    "    def play(self):\n",
    "        print(\"Playing sports\")\n",
    "\n",
    "class StudentAthlete(Student, Athlete):\n",
    "    pass\n",
    "\n",
    "# Test\n",
    "sa = StudentAthlete()\n",
    "sa.study()  # Studying\n",
    "sa.play()   # Playing sports\n"
   ]
  },
  {
   "cell_type": "markdown",
   "id": "2c361cc3-ec3b-46b6-ab31-df4e40e1ef9a",
   "metadata": {},
   "source": [
    "### *****6. Polymorphism (5 Questions) "
   ]
  },
  {
   "cell_type": "markdown",
   "id": "debc3464-8a90-45f3-8dff-292747ed3364",
   "metadata": {},
   "source": [
    "##### 26. Create two classes Cat and Dog with the same method speak(). Demonstrate \n",
    "##### polymorphism. "
   ]
  },
  {
   "cell_type": "code",
   "execution_count": 38,
   "id": "ceaebd21-65ad-44c1-b920-4146f15f441b",
   "metadata": {},
   "outputs": [
    {
     "name": "stdout",
     "output_type": "stream",
     "text": [
      "Meow\n",
      "Bark\n"
     ]
    }
   ],
   "source": [
    "class Cat:\n",
    "    def speak(self):\n",
    "        print(\"Meow\")\n",
    "\n",
    "class Dog:\n",
    "    def speak(self):\n",
    "        print(\"Bark\")\n",
    "\n",
    "# Both work the same way\n",
    "for animal in [Cat(), Dog()]:\n",
    "    animal.speak()\n"
   ]
  },
  {
   "cell_type": "markdown",
   "id": "aa2bfcd1-b954-4dd0-b8af-4714a84ba5c6",
   "metadata": {},
   "source": [
    "##### 27. Demonstrate operator overloading by implementing addition of two Vector objects. "
   ]
  },
  {
   "cell_type": "code",
   "execution_count": 39,
   "id": "e5205b4c-8b46-4651-810c-c475a9956829",
   "metadata": {},
   "outputs": [
    {
     "name": "stdout",
     "output_type": "stream",
     "text": [
      "7 10\n"
     ]
    }
   ],
   "source": [
    "class Vector:\n",
    "    def __init__(self, x, y):\n",
    "        self.x = x\n",
    "        self.y = y\n",
    "\n",
    "    def __add__(self, other):\n",
    "        return Vector(self.x + other.x, self.y + other.y)\n",
    "\n",
    "    def show(self):\n",
    "        print(self.x, self.y)\n",
    "\n",
    "# Test\n",
    "v1 = Vector(2, 3)\n",
    "v2 = Vector(5, 7)\n",
    "(v1 + v2).show()  # 7 10\n"
   ]
  },
  {
   "cell_type": "markdown",
   "id": "297de087-98e7-4f46-9a75-136132530726",
   "metadata": {},
   "source": [
    "##### 28. Demonstrate method overloading using default parameters. "
   ]
  },
  {
   "cell_type": "code",
   "execution_count": 40,
   "id": "7f86eba7-0109-4566-90e3-fb2591fc891a",
   "metadata": {},
   "outputs": [
    {
     "name": "stdout",
     "output_type": "stream",
     "text": [
      "8\n",
      "5\n"
     ]
    }
   ],
   "source": [
    "class Math:\n",
    "    def add(self, a, b=0):\n",
    "        return a + b\n",
    "\n",
    "m = Math()\n",
    "print(m.add(5,3))  # 8\n",
    "print(m.add(5))    # 5\n"
   ]
  },
  {
   "cell_type": "markdown",
   "id": "ca4e718b-36aa-41b4-b28d-d3f14a683171",
   "metadata": {},
   "source": [
    "##### 29. Create a base class Shape with draw() method and override it in derived classes. "
   ]
  },
  {
   "cell_type": "code",
   "execution_count": 41,
   "id": "0946a35b-c7c6-4472-8126-e13b26130f73",
   "metadata": {},
   "outputs": [
    {
     "name": "stdout",
     "output_type": "stream",
     "text": [
      "Drawing rectangle\n",
      "Drawing circle\n"
     ]
    }
   ],
   "source": [
    "class Shape:\n",
    "    def draw(self):\n",
    "        print(\"Drawing shape\")\n",
    "\n",
    "class Rectangle(Shape):\n",
    "    def draw(self):\n",
    "        print(\"Drawing rectangle\")\n",
    "\n",
    "class Circle(Shape):\n",
    "    def draw(self):\n",
    "        print(\"Drawing circle\")\n",
    "\n",
    "Rectangle().draw()  # Drawing rectangle\n",
    "Circle().draw()     # Drawing circle\n"
   ]
  },
  {
   "cell_type": "markdown",
   "id": "90a6e6c4-aed2-42e3-b827-33bbce1f1056",
   "metadata": {},
   "source": [
    "##### 30. Demonstrate duck typing with classes having the same method name."
   ]
  },
  {
   "cell_type": "code",
   "execution_count": 42,
   "id": "bc42da0d-6978-4c96-999e-3b90ada620be",
   "metadata": {},
   "outputs": [
    {
     "name": "stdout",
     "output_type": "stream",
     "text": [
      "Bird flying\n",
      "Airplane flying\n"
     ]
    }
   ],
   "source": [
    "class Bird:\n",
    "    def fly(self):\n",
    "        print(\"Bird flying\")\n",
    "\n",
    "class Airplane:\n",
    "    def fly(self):\n",
    "        print(\"Airplane flying\")\n",
    "\n",
    "def lets_fly(obj):\n",
    "    obj.fly()  # Doesn't matter what type it is\n",
    "\n",
    "lets_fly(Bird())      # Bird flying\n",
    "lets_fly(Airplane())  # Airplane flying\n"
   ]
  },
  {
   "cell_type": "markdown",
   "id": "aeb2909a-1a27-4afe-a34b-870e2d4a37e3",
   "metadata": {},
   "source": [
    "### 7. Encapsulation (5 Questions) "
   ]
  },
  {
   "cell_type": "markdown",
   "id": "65fb430d-eaef-41c2-8ec7-ef0326225da5",
   "metadata": {},
   "source": [
    "##### 31. Create a class Account with private balance attribute and provide methods to deposit \n",
    "##### and withdraw. "
   ]
  },
  {
   "cell_type": "code",
   "execution_count": 43,
   "id": "fb18ed19-69c7-4df4-ab08-5363bf60d965",
   "metadata": {},
   "outputs": [
    {
     "name": "stdout",
     "output_type": "stream",
     "text": [
      "Balance: 1500\n",
      "Balance: 1300\n"
     ]
    }
   ],
   "source": [
    "class Account:\n",
    "    def __init__(self, balance):\n",
    "        self.__balance = balance  # private\n",
    "\n",
    "    def deposit(self, amount):\n",
    "        self.__balance += amount\n",
    "        print(\"Balance:\", self.__balance)\n",
    "\n",
    "    def withdraw(self, amount):\n",
    "        if amount <= self.__balance:\n",
    "            self.__balance -= amount\n",
    "        print(\"Balance:\", self.__balance)\n",
    "\n",
    "\n",
    "acc = Account(1000)\n",
    "acc.deposit(500)\n",
    "acc.withdraw(200)\n"
   ]
  },
  {
   "cell_type": "markdown",
   "id": "bd6ff5a7-0c2c-4b4e-9eee-5f2f8430309a",
   "metadata": {},
   "source": [
    "##### 32. Create a class with private attributes and use getter and setter methods to access them. "
   ]
  },
  {
   "cell_type": "code",
   "execution_count": 44,
   "id": "281aa189-7100-4897-bdc4-641408cb9a83",
   "metadata": {},
   "outputs": [],
   "source": [
    "class Person:\n",
    "    def __init__(self, name):\n",
    "        self.__name = name  # private\n",
    "\n",
    "    def get_name(self):\n",
    "        return self.__name\n",
    "\n",
    "    def set_name(self, name):\n",
    "        self.__name = name\n"
   ]
  },
  {
   "cell_type": "code",
   "execution_count": 45,
   "id": "6e2465c1-98ae-4cff-981d-baed104787d0",
   "metadata": {},
   "outputs": [
    {
     "name": "stdout",
     "output_type": "stream",
     "text": [
      "kashish\n",
      "vicky\n"
     ]
    }
   ],
   "source": [
    "a = Person(\"kashish\")\n",
    "print(a.get_name())\n",
    "a.set_name(\"vicky\")\n",
    "print(a.get_name())"
   ]
  },
  {
   "cell_type": "markdown",
   "id": "af1db4fe-991d-46fa-aaf2-a7b19513b1f9",
   "metadata": {},
   "source": [
    "##### 33. Demonstrate name mangling with private variables. "
   ]
  },
  {
   "cell_type": "code",
   "execution_count": 46,
   "id": "a3956761-797c-45eb-8ef6-ae575bf771ce",
   "metadata": {},
   "outputs": [],
   "source": [
    "class Test:\n",
    "    def __init__(self):\n",
    "        self.__secret = 123"
   ]
  },
  {
   "cell_type": "code",
   "execution_count": 47,
   "id": "79704281-94ce-4564-90f9-733a98f2fcf7",
   "metadata": {},
   "outputs": [
    {
     "data": {
      "text/plain": [
       "123"
      ]
     },
     "execution_count": 47,
     "metadata": {},
     "output_type": "execute_result"
    }
   ],
   "source": [
    "t = Test()\n",
    "t._Test__secret"
   ]
  },
  {
   "cell_type": "markdown",
   "id": "2325c70c-4fd6-4be8-88c6-ece29a4b0f35",
   "metadata": {},
   "source": [
    "##### 34. Create a class Bank with encapsulated methods to show account details securely. "
   ]
  },
  {
   "cell_type": "code",
   "execution_count": 48,
   "id": "79df118e-6d78-40c0-9add-50feed37d678",
   "metadata": {},
   "outputs": [
    {
     "name": "stdout",
     "output_type": "stream",
     "text": [
      "Balance: 5000\n",
      "Balance: 6000\n"
     ]
    }
   ],
   "source": [
    "class Bank:\n",
    "    def __init__(self, balance):\n",
    "        self.__balance = balance\n",
    "\n",
    "    def show_balance(self):\n",
    "        print(\"Balance:\", self.__balance)\n",
    "\n",
    "    def deposit(self, amount):\n",
    "        self.__balance += amount\n",
    "\n",
    "# Test\n",
    "b = Bank(5000)\n",
    "b.show_balance()\n",
    "b.deposit(1000)\n",
    "b.show_balance()\n"
   ]
  },
  {
   "cell_type": "markdown",
   "id": "da20ba08-dcf0-490b-9c24-af4ab848abe5",
   "metadata": {},
   "source": [
    "##### 35. Demonstrate encapsulation by restricting access to class attributes."
   ]
  },
  {
   "cell_type": "code",
   "execution_count": 49,
   "id": "d255f2f1-06e0-47fe-8a78-674aa4888466",
   "metadata": {},
   "outputs": [
    {
     "name": "stdout",
     "output_type": "stream",
     "text": [
      "500\n",
      "600\n"
     ]
    }
   ],
   "source": [
    "class Product:\n",
    "    def __init__(self, price):\n",
    "        self.__price = price  # private\n",
    "\n",
    "    def get_price(self):\n",
    "        return self.__price\n",
    "\n",
    "    def set_price(self, price):\n",
    "        if price > 0:\n",
    "            self.__price = price\n",
    "\n",
    "# Test\n",
    "item = Product(500)\n",
    "print(item.get_price())\n",
    "item.set_price(600)\n",
    "print(item.get_price())\n"
   ]
  },
  {
   "cell_type": "markdown",
   "id": "dbb36ee3-e773-4c13-98d8-89490ad40360",
   "metadata": {},
   "source": [
    "### 8. Datetime Module (5 Questions)"
   ]
  },
  {
   "cell_type": "markdown",
   "id": "aaf293ad-2121-404f-a5ca-78cdfaa5c1e8",
   "metadata": {},
   "source": [
    "##### 36. Write a program to display the current date and time. "
   ]
  },
  {
   "cell_type": "code",
   "execution_count": 50,
   "id": "f6e38fd7-58e8-45d9-ae67-1392eb46a115",
   "metadata": {},
   "outputs": [
    {
     "name": "stdout",
     "output_type": "stream",
     "text": [
      "2025-09-18 21:24:54.925074\n"
     ]
    }
   ],
   "source": [
    "import datetime\n",
    "\n",
    "print(datetime.datetime.now())\n"
   ]
  },
  {
   "cell_type": "markdown",
   "id": "7a5b308f-0cd4-472d-8d68-f74b2cf8bf1b",
   "metadata": {},
   "source": [
    "##### 37. Write a program to calculate a person’s age from their date of birth. "
   ]
  },
  {
   "cell_type": "code",
   "execution_count": 51,
   "id": "d6b7e076-19b5-4d92-99ff-b46bd1dbdb88",
   "metadata": {},
   "outputs": [
    {
     "name": "stdout",
     "output_type": "stream",
     "text": [
      "Age: 25\n"
     ]
    }
   ],
   "source": [
    "from datetime import date\n",
    "\n",
    "dob = date(2000, 5, 15)\n",
    "today = date.today()\n",
    "age = today.year - dob.year\n",
    "print(\"Age:\", age)\n"
   ]
  },
  {
   "cell_type": "markdown",
   "id": "757821bc-92b2-4260-850b-6aaca459af1e",
   "metadata": {},
   "source": [
    "##### 38. Write a program to find the difference in days between two given dates. "
   ]
  },
  {
   "cell_type": "code",
   "execution_count": 52,
   "id": "4bb15554-d17b-444c-9434-e0f66ba512a5",
   "metadata": {},
   "outputs": [
    {
     "name": "stdout",
     "output_type": "stream",
     "text": [
      "16\n"
     ]
    }
   ],
   "source": [
    "from datetime import date\n",
    "\n",
    "d1 = date(2025, 9, 15)\n",
    "d2 = date(2025, 10, 1)\n",
    "print((d2 - d1).days)\n"
   ]
  },
  {
   "cell_type": "markdown",
   "id": "1f14e7ea-fdc2-4c8d-b986-aed29ebb9d00",
   "metadata": {},
   "source": [
    "##### 39. Write a program to print the date 30 days from today. "
   ]
  },
  {
   "cell_type": "code",
   "execution_count": 53,
   "id": "5e35352a-7466-4070-b66b-791930fb724d",
   "metadata": {},
   "outputs": [
    {
     "name": "stdout",
     "output_type": "stream",
     "text": [
      "2025-10-18\n"
     ]
    }
   ],
   "source": [
    "from datetime import date, timedelta\n",
    "\n",
    "print(date.today() + timedelta(days=30))\n"
   ]
  },
  {
   "cell_type": "markdown",
   "id": "71012a1b-6598-4b7b-b2b9-0b9a12ac6f2b",
   "metadata": {},
   "source": [
    "##### 40. Write a program to format today’s date as “DD/MM/YYYY” and “YYYY-MM-DD”."
   ]
  },
  {
   "cell_type": "code",
   "execution_count": 54,
   "id": "0ae2918a-1ea1-40d8-bdf9-8c8ebb6f7850",
   "metadata": {},
   "outputs": [
    {
     "name": "stdout",
     "output_type": "stream",
     "text": [
      "18/09/2025\n",
      "2025-09-18\n"
     ]
    }
   ],
   "source": [
    "from datetime import date\n",
    "\n",
    "today = date.today()\n",
    "print(today.strftime(\"%d/%m/%Y\"))\n",
    "print(today.strftime(\"%Y-%m-%d\"))\n"
   ]
  },
  {
   "cell_type": "markdown",
   "id": "2476ed4f-6738-49c3-ab36-bbd7712eaa5d",
   "metadata": {},
   "source": [
    "### 9. Math Module (5 Questions) "
   ]
  },
  {
   "cell_type": "markdown",
   "id": "47c55240-750e-4247-9a32-b01251213101",
   "metadata": {},
   "source": [
    "##### 41. Write a program to calculate factorial using math.factorial()."
   ]
  },
  {
   "cell_type": "code",
   "execution_count": 56,
   "id": "37bf2970-60d1-411f-849d-b4a31f63f763",
   "metadata": {},
   "outputs": [
    {
     "name": "stdin",
     "output_type": "stream",
     "text": [
      "Enter the number:  8\n"
     ]
    },
    {
     "data": {
      "text/plain": [
       "40320"
      ]
     },
     "execution_count": 56,
     "metadata": {},
     "output_type": "execute_result"
    }
   ],
   "source": [
    "import math\n",
    "num = int(input(\"Enter the number: \"))\n",
    "math.factorial(num)"
   ]
  },
  {
   "cell_type": "markdown",
   "id": "6e0ef6f4-47c2-41eb-87cd-2a86af875034",
   "metadata": {},
   "source": [
    "##### 42. Write a program to find the greatest common divisor (GCD) of two numbers. "
   ]
  },
  {
   "cell_type": "code",
   "execution_count": 57,
   "id": "49450e32-bb7f-4163-be71-6b816ba7f862",
   "metadata": {},
   "outputs": [
    {
     "name": "stdout",
     "output_type": "stream",
     "text": [
      "GCD of 36 and 60 is: 12\n"
     ]
    }
   ],
   "source": [
    "\n",
    "a = 36\n",
    "b = 60\n",
    "gcd = math.gcd(a, b)\n",
    "print(\"GCD of\", a, \"and\", b, \"is:\", gcd)"
   ]
  },
  {
   "cell_type": "markdown",
   "id": "248cf266-b6fc-45e5-92c1-0b6ae273a0c9",
   "metadata": {},
   "source": [
    "##### 43. Write a program to calculate square root, power, and logarithm using math module."
   ]
  },
  {
   "cell_type": "code",
   "execution_count": 58,
   "id": "2c93bc05-fca6-4f4d-8cbf-523825ecaaf5",
   "metadata": {},
   "outputs": [
    {
     "name": "stdin",
     "output_type": "stream",
     "text": [
      "Enter the number: 25\n"
     ]
    },
    {
     "name": "stdout",
     "output_type": "stream",
     "text": [
      "Square root of 25 : 5.0\n"
     ]
    }
   ],
   "source": [
    "import math\n",
    "num = int(input(\"Enter the number:\"))\n",
    "print(\"Square root of\", num, \":\", math.sqrt(num))"
   ]
  },
  {
   "cell_type": "code",
   "execution_count": 59,
   "id": "33b721cc-811e-466b-b669-634c16a94c83",
   "metadata": {},
   "outputs": [
    {
     "name": "stdout",
     "output_type": "stream",
     "text": [
      "2 power 3: 8.0\n"
     ]
    }
   ],
   "source": [
    "print(\"2 power 3:\", math.pow(2, 3))  "
   ]
  },
  {
   "cell_type": "code",
   "execution_count": 60,
   "id": "c15a5bf4-7dfc-4d2c-ab78-a8f05eac18fc",
   "metadata": {},
   "outputs": [
    {
     "name": "stdout",
     "output_type": "stream",
     "text": [
      "Logarithm of 10 (base e): 2.302585092994046\n"
     ]
    }
   ],
   "source": [
    "print(\"Logarithm of 10 (base e):\", math.log(10))"
   ]
  },
  {
   "cell_type": "markdown",
   "id": "d24ec486-8bb4-469c-adfb-5e408e568e1c",
   "metadata": {},
   "source": [
    "##### 44. Write a program to generate random numbers between 1 and 100 (using math and \n",
    "##### random). "
   ]
  },
  {
   "cell_type": "code",
   "execution_count": 61,
   "id": "0de0ae60-27ce-43d4-9137-0468aba572f3",
   "metadata": {},
   "outputs": [
    {
     "name": "stdout",
     "output_type": "stream",
     "text": [
      "Random number: 93\n"
     ]
    }
   ],
   "source": [
    "import random\n",
    "\n",
    "# Random integer between 1 and 100\n",
    "num = random.randint(1, 100)\n",
    "print(\"Random number:\", num)\n"
   ]
  },
  {
   "cell_type": "markdown",
   "id": "6a85f60c-8d07-4aef-8640-cc9cd5416765",
   "metadata": {},
   "source": [
    "##### 45. Write a program to convert radians to degrees and vice versa."
   ]
  },
  {
   "cell_type": "code",
   "execution_count": 62,
   "id": "01ec38fa-12b0-462f-84ed-bf4ae7f5c0af",
   "metadata": {},
   "outputs": [
    {
     "name": "stdout",
     "output_type": "stream",
     "text": [
      "180.0\n",
      "3.141592653589793\n"
     ]
    }
   ],
   "source": [
    "import math\n",
    "\n",
    "print(math.degrees(math.pi))  # π rad → 180°\n",
    "print(math.radians(180))      # 180° → π rad\n"
   ]
  },
  {
   "cell_type": "code",
   "execution_count": 63,
   "id": "d60b95b6-f563-4ab9-a609-114bb9ec58b9",
   "metadata": {},
   "outputs": [
    {
     "name": "stdout",
     "output_type": "stream",
     "text": [
      "Radians to Degrees: 180.0\n",
      "Degrees to Radians: 3.141592653589793\n"
     ]
    }
   ],
   "source": [
    "radians = math.pi   # 3.14159...\n",
    "degrees = math.degrees(radians)\n",
    "print(\"Radians to Degrees:\", degrees)   # 180°\n",
    "\n",
    "deg = 180\n",
    "rad = math.radians(deg)\n",
    "print(\"Degrees to Radians:\", rad)       # 3.14159...\n"
   ]
  },
  {
   "cell_type": "markdown",
   "id": "48a05325-143c-483a-bb38-abfea83257e9",
   "metadata": {},
   "source": [
    "### 10. Regular Expression Module (5 Questions) "
   ]
  },
  {
   "cell_type": "markdown",
   "id": "73e636dd-043f-476f-bb2f-ccbb4760918f",
   "metadata": {},
   "source": [
    "##### 46. Write a regex to check if a string is a valid email address. "
   ]
  },
  {
   "cell_type": "code",
   "execution_count": 64,
   "id": "41dbaf62-bd94-4edc-a04e-6698f7ef6bb4",
   "metadata": {},
   "outputs": [
    {
     "name": "stdout",
     "output_type": "stream",
     "text": [
      "Valid email\n"
     ]
    }
   ],
   "source": [
    "import re\n",
    "email = \"abc@example.com\"\n",
    "if re.match(r\".+@.+\\..+\", email):\n",
    "    print(\"Valid email\")\n"
   ]
  },
  {
   "cell_type": "markdown",
   "id": "8e75cd44-7b8e-4a69-9892-f75b7e21d715",
   "metadata": {},
   "source": [
    "##### 47. Write a regex to extract all numbers from a string. "
   ]
  },
  {
   "cell_type": "code",
   "execution_count": 65,
   "id": "afdd3329-8071-4c10-b286-129cfb713ca4",
   "metadata": {},
   "outputs": [
    {
     "name": "stdout",
     "output_type": "stream",
     "text": [
      "['2', '15']\n"
     ]
    }
   ],
   "source": [
    "import re\n",
    "text = \"I have 2 apples and 15 oranges\"\n",
    "print(re.findall(r\"\\d+\", text))  # ['2', '15']\n"
   ]
  },
  {
   "cell_type": "markdown",
   "id": "17dbf8e3-c1e0-43d4-a046-370bcba95ec3",
   "metadata": {},
   "source": [
    "##### *****48. Write a regex to validate if a string is a valid Indian mobile number (10 digits). "
   ]
  },
  {
   "cell_type": "code",
   "execution_count": 66,
   "id": "995f1b5a-843c-43f3-b6bf-6ff6a620880d",
   "metadata": {},
   "outputs": [
    {
     "name": "stdout",
     "output_type": "stream",
     "text": [
      "Valid number\n"
     ]
    }
   ],
   "source": [
    "import re\n",
    "num = \"9876543210\"\n",
    "if re.match(r\"[6-9]\\d{9}$\", num):\n",
    "    print(\"Valid number\")\n"
   ]
  },
  {
   "cell_type": "markdown",
   "id": "fb90a9f6-6762-470b-914b-49412d543933",
   "metadata": {},
   "source": [
    "##### 49. Write a regex to find all words starting with a capital letter in a sentence. "
   ]
  },
  {
   "cell_type": "code",
   "execution_count": 67,
   "id": "cb9d17d0-41b5-41e9-a0fd-ddac481f6d2b",
   "metadata": {},
   "outputs": [
    {
     "name": "stdout",
     "output_type": "stream",
     "text": [
      "['Hello', 'World', 'Python']\n"
     ]
    }
   ],
   "source": [
    "import re\n",
    "text = \"Hello World Python\"\n",
    "print(re.findall(r\"\\b[A-Z]\\w*\", text))  # ['Hello', 'World', 'Python']\n"
   ]
  },
  {
   "cell_type": "markdown",
   "id": "b1ba94d2-ee07-4a36-af5e-79212be4270b",
   "metadata": {},
   "source": [
    "##### 50. Write a regex to replace all spaces in a string with a hyphen."
   ]
  },
  {
   "cell_type": "code",
   "execution_count": 68,
   "id": "14ce3030-3150-4eb8-b532-9f7140d129ca",
   "metadata": {},
   "outputs": [
    {
     "name": "stdout",
     "output_type": "stream",
     "text": [
      "Hello-World-Python\n"
     ]
    }
   ],
   "source": [
    "import re\n",
    "text = \"Hello World Python\"\n",
    "print(re.sub(r\"\\s+\", \"-\", text))  # Hello-World-Python\n"
   ]
  },
  {
   "cell_type": "markdown",
   "id": "37c72ec1-e391-4426-a4ef-2b001c370549",
   "metadata": {},
   "source": [
    "## END!!!!"
   ]
  },
  {
   "cell_type": "code",
   "execution_count": null,
   "id": "22514931-4ead-438d-ad98-0cc23edc775d",
   "metadata": {},
   "outputs": [],
   "source": []
  }
 ],
 "metadata": {
  "kernelspec": {
   "display_name": "Python [conda env:base] *",
   "language": "python",
   "name": "conda-base-py"
  },
  "language_info": {
   "codemirror_mode": {
    "name": "ipython",
    "version": 3
   },
   "file_extension": ".py",
   "mimetype": "text/x-python",
   "name": "python",
   "nbconvert_exporter": "python",
   "pygments_lexer": "ipython3",
   "version": "3.13.5"
  }
 },
 "nbformat": 4,
 "nbformat_minor": 5
}
