{
 "cells": [
  {
   "cell_type": "markdown",
   "id": "cd6d5d98-cb1b-4fed-8f35-dd724aa70a48",
   "metadata": {},
   "source": [
    "### 1. String (5 Questions)"
   ]
  },
  {
   "cell_type": "markdown",
   "id": "b8b4cb4a-c505-4435-a0ea-ab4599965f8a",
   "metadata": {},
   "source": [
    "##### 1. Check if a given string is a palindrome."
   ]
  },
  {
   "cell_type": "code",
   "execution_count": 59,
   "id": "12c6d725-e22a-4e80-964e-e6efa789d6dc",
   "metadata": {},
   "outputs": [
    {
     "name": "stdin",
     "output_type": "stream",
     "text": [
      "Enter the word: racecar\n"
     ]
    },
    {
     "name": "stdout",
     "output_type": "stream",
     "text": [
      "It is a Palindrome\n"
     ]
    }
   ],
   "source": [
    "r = input(\"Enter the word:\")\n",
    "word = r.lower()\n",
    "Reverse = word[::-1]\n",
    "if word == Reverse:\n",
    "    print(\"It is a Palindrome\")\n",
    "else:\n",
    "    print(\"It is not a Palindrome\")"
   ]
  },
  {
   "cell_type": "markdown",
   "id": "10453a80-015c-4766-9f91-e0b9d8c49293",
   "metadata": {},
   "source": [
    "##### 2. Count the number of vowels in a string and store the result in a dictionary."
   ]
  },
  {
   "cell_type": "code",
   "execution_count": 61,
   "id": "bc12bb00-3bfc-4af1-8e8f-85988850e742",
   "metadata": {},
   "outputs": [],
   "source": [
    "def count_vowels(word):\n",
    "    \"\"\"This Function count the vowel in the word.\"\"\"\n",
    "    word = word.lower()\n",
    "    a = e = i = o = u = 0\n",
    "    for ch in word:\n",
    "        if ch == \"a\":\n",
    "            a += 1\n",
    "        elif ch == \"e\":\n",
    "            e += 1\n",
    "        elif ch == \"i\":\n",
    "            i += 1\n",
    "        elif ch == \"o\":\n",
    "            o += 1\n",
    "        elif ch == \"u\":\n",
    "            u += 1\n",
    "            \n",
    "    return {\"a\": a, \"e\": e, \"i\": i, \"o\": o, \"u\": u}"
   ]
  },
  {
   "cell_type": "code",
   "execution_count": 62,
   "id": "8aa5df0b-6fc0-43ae-8d50-5c486aebb995",
   "metadata": {},
   "outputs": [
    {
     "data": {
      "text/plain": [
       "{'a': 1, 'e': 0, 'i': 1, 'o': 0, 'u': 0}"
      ]
     },
     "execution_count": 62,
     "metadata": {},
     "output_type": "execute_result"
    }
   ],
   "source": [
    "count_vowels(\"kashish\")"
   ]
  },
  {
   "cell_type": "code",
   "execution_count": 63,
   "id": "dff6e753-3c61-42b7-9b01-4bacd7d540d3",
   "metadata": {},
   "outputs": [
    {
     "data": {
      "text/plain": [
       "{'a': 2, 'e': 1, 'i': 3, 'o': 0, 'u': 0}"
      ]
     },
     "execution_count": 63,
     "metadata": {},
     "output_type": "execute_result"
    }
   ],
   "source": [
    "count_vowels(\" hi my name is kashish\")"
   ]
  },
  {
   "cell_type": "code",
   "execution_count": 64,
   "id": "892a4dfb-374e-4ed2-878f-8edeaaefda49",
   "metadata": {},
   "outputs": [
    {
     "name": "stdout",
     "output_type": "stream",
     "text": [
      "{'a': 1, 'e': 1, 'i': 1, 'o': 1, 'u': 1}\n",
      "{'a': 1, 'e': 1, 'i': 1, 'o': 1, 'u': 1}\n",
      "{'a': 1, 'e': 1, 'i': 1, 'o': 1, 'u': 1}\n",
      "{'a': 1, 'e': 1, 'i': 1, 'o': 1, 'u': 1}\n",
      "{'a': 1, 'e': 1, 'i': 1, 'o': 1, 'u': 1}\n"
     ]
    }
   ],
   "source": [
    "s = \"education\"\n",
    "vowels = \"aeiou\"\n",
    "count = {v:s.count(v) for v in vowels}\n",
    "for v in vowels:\n",
    "    print(count)"
   ]
  },
  {
   "cell_type": "markdown",
   "id": "70ba4356-9ef8-4cd9-a016-9051b78ac8b8",
   "metadata": {},
   "source": [
    "##### 3. Convert the first letter of each word in a string to uppercase (title case manually)."
   ]
  },
  {
   "cell_type": "code",
   "execution_count": 65,
   "id": "b358b8ad-0358-46fe-827b-d9920827be61",
   "metadata": {},
   "outputs": [
    {
     "name": "stdin",
     "output_type": "stream",
     "text": [
      "Sentence: today is my birthday\n"
     ]
    },
    {
     "name": "stdout",
     "output_type": "stream",
     "text": [
      "Today Is My Birthday\n"
     ]
    }
   ],
   "source": [
    "w = input(\"Sentence:\").title()\n",
    "print(w)"
   ]
  },
  {
   "cell_type": "markdown",
   "id": "51ba5e37-79a7-41ae-a278-9060d87f1540",
   "metadata": {},
   "source": [
    "##### 4. Find the most frequently occurring character in a string."
   ]
  },
  {
   "cell_type": "code",
   "execution_count": 66,
   "id": "286654de-4837-4072-925d-d31b1eedd29f",
   "metadata": {},
   "outputs": [
    {
     "name": "stdout",
     "output_type": "stream",
     "text": [
      "a\n"
     ]
    }
   ],
   "source": [
    "s1 = \"banana\"\n",
    "freq = {ch:s.count(ch) for ch in s1}\n",
    "print(max(freq,key = freq.get))"
   ]
  },
  {
   "cell_type": "markdown",
   "id": "6877c408-1659-4427-9bad-2525c96a49f6",
   "metadata": {},
   "source": [
    "##### 5. Count digits, alphabets, and special characters separately in a string."
   ]
  },
  {
   "cell_type": "code",
   "execution_count": 61,
   "id": "ffff7bc6-32cd-4d07-b38e-fe22c1952846",
   "metadata": {},
   "outputs": [
    {
     "name": "stdin",
     "output_type": "stream",
     "text": [
      "Enter a string: Hello123@\n"
     ]
    },
    {
     "name": "stdout",
     "output_type": "stream",
     "text": [
      "alphabet 5 digit 3 special 1\n"
     ]
    }
   ],
   "source": [
    "w = input(\"Enter a string:\")\n",
    "digit = 0\n",
    "alphabet = 0\n",
    "special = 0\n",
    "\n",
    "for ch in w:\n",
    "    if ch.isalpha():\n",
    "        alphabet += 1\n",
    "    elif ch.isdigit():\n",
    "        digit += 1\n",
    "    else:\n",
    "        special += 1   \n",
    "print(\"alphabet\",alphabet,\"digit\",digit,\"special\",special)"
   ]
  },
  {
   "cell_type": "markdown",
   "id": "2a34989c-1d70-4f94-9efb-5370ef3548dc",
   "metadata": {},
   "source": [
    "### 2. List (5 Questions)"
   ]
  },
  {
   "cell_type": "markdown",
   "id": "698e7c95-40b2-453b-9f63-bda7a797d61e",
   "metadata": {},
   "source": [
    "##### 6. Remove duplicate elements from a list without using set()."
   ]
  },
  {
   "cell_type": "code",
   "execution_count": 67,
   "id": "1d2cd3e8-146c-4018-8c21-9dd94cfb0b51",
   "metadata": {},
   "outputs": [
    {
     "name": "stdout",
     "output_type": "stream",
     "text": [
      "[1, 2, 3, 4, 5]\n"
     ]
    }
   ],
   "source": [
    "list = [1,2,2,3,3,3,4,4,4,4,5,5,5,5,5]\n",
    "new_list =[]\n",
    "\n",
    "for i in list:\n",
    "    if i not in new_list:\n",
    "        new_list.append(i)\n",
    "print(new_list)"
   ]
  },
  {
   "cell_type": "markdown",
   "id": "27ff8dae-f3ce-477e-bc0f-9420c475a818",
   "metadata": {},
   "source": [
    "##### 7. Reverse a list without using built-in functions."
   ]
  },
  {
   "cell_type": "code",
   "execution_count": 68,
   "id": "7ac90bee-2ec4-42a4-8d7b-f420bd69d764",
   "metadata": {},
   "outputs": [
    {
     "name": "stdout",
     "output_type": "stream",
     "text": [
      "[1, 2, 3, 4, 5, 6, 7, 8, 9, 0]\n"
     ]
    }
   ],
   "source": [
    "list = [0,9,8,7,6,5,4,3,2,1]\n",
    "list = list[::-1]\n",
    "print(list)"
   ]
  },
  {
   "cell_type": "code",
   "execution_count": 69,
   "id": "7199d65d-0199-42ee-8af8-d559d84a75be",
   "metadata": {},
   "outputs": [],
   "source": [
    "# if list have duplicate value 1st remove duplicate value converting in into set. then sort it in ascending order !\n"
   ]
  },
  {
   "cell_type": "markdown",
   "id": "0c8e3eb3-c9bf-4336-bbdc-4ef364133996",
   "metadata": {},
   "source": [
    "##### 8. Find the 2nd largest and 2nd smallest element in a list."
   ]
  },
  {
   "cell_type": "code",
   "execution_count": 70,
   "id": "702539b5-895c-4289-8a0a-bc60400a9177",
   "metadata": {},
   "outputs": [
    {
     "name": "stdout",
     "output_type": "stream",
     "text": [
      "2nd smallest: 20 2nd largest: 400\n",
      "[1, 20, 21, 34, 55, 98, 400, 12456]\n"
     ]
    }
   ],
   "source": [
    "numbers = [55,21,98,400,12456,34,1,20]\n",
    "n = sorted(numbers)\n",
    "second_smallest = n[1]\n",
    "second_largest = n[-2]\n",
    "\n",
    "print(\"2nd smallest:\",second_smallest,\"2nd largest:\",second_largest)\n",
    "print(n)"
   ]
  },
  {
   "cell_type": "markdown",
   "id": "0be46e1d-183b-4047-904a-3e43558f19f8",
   "metadata": {},
   "source": [
    "##### 9. Store the square of each element of a list into a new list (using list comprehension)."
   ]
  },
  {
   "cell_type": "code",
   "execution_count": 71,
   "id": "8cbd3d3f-c38b-41f4-924f-c3dc1d0067cb",
   "metadata": {},
   "outputs": [
    {
     "data": {
      "text/plain": [
       "[1, 4, 9, 16, 25, 36, 49, 64, 81, 100]"
      ]
     },
     "execution_count": 71,
     "metadata": {},
     "output_type": "execute_result"
    }
   ],
   "source": [
    "l1 = [1,2,3,4,5,6,7,8,9,10]\n",
    "[i**2 for i in l1]"
   ]
  },
  {
   "cell_type": "markdown",
   "id": "38f9dd61-60e4-416f-ab3b-c031b9d16f57",
   "metadata": {},
   "source": [
    "##### 10. Flatten a nested list into a single list."
   ]
  },
  {
   "cell_type": "code",
   "execution_count": 72,
   "id": "3c7fe89a-76a7-4e21-8e1f-bf6574d1a016",
   "metadata": {},
   "outputs": [
    {
     "data": {
      "text/plain": [
       "[1, 2, 3, 4, 5, 6]"
      ]
     },
     "execution_count": 72,
     "metadata": {},
     "output_type": "execute_result"
    }
   ],
   "source": [
    "nested = [[1,2],[3,4],[5,6]] # 1st way \n",
    "[x for sub in nested for x in sub]"
   ]
  },
  {
   "cell_type": "code",
   "execution_count": 73,
   "id": "7f51e88d-b16a-4daf-9619-f7f702a56ea1",
   "metadata": {},
   "outputs": [
    {
     "name": "stdout",
     "output_type": "stream",
     "text": [
      "[1, 2, 3, 4, 5, 6]\n"
     ]
    }
   ],
   "source": [
    "l1 = [[1,2],[3,4],[5,6]] # 2nd way\n",
    "list = []\n",
    "for i in l1:\n",
    "    for j in i:\n",
    "        list.append(j)\n",
    "print(list)"
   ]
  },
  {
   "cell_type": "markdown",
   "id": "54382292-4b47-4017-b33b-ba1b6f7d6457",
   "metadata": {},
   "source": [
    "### 3. Tuple (5 Questions)"
   ]
  },
  {
   "cell_type": "markdown",
   "id": "4b96bc5e-b485-4dfe-8cf8-b83273c6af70",
   "metadata": {},
   "source": [
    "##### 11. Reverse a tuple without using [::-1]."
   ]
  },
  {
   "cell_type": "code",
   "execution_count": 1,
   "id": "99d226fe-f179-4957-9ed1-42e24cffdcf3",
   "metadata": {},
   "outputs": [
    {
     "name": "stdout",
     "output_type": "stream",
     "text": [
      "Reversed tuple: (5, 4, 3, 2, 1)\n"
     ]
    }
   ],
   "source": [
    "t = (1, 2, 3, 4, 5)\n",
    "\n",
    "l1 = list(t)    # tuple → list \n",
    "l1.reverse()     # reverse the list\n",
    "t1 = tuple(l1)  # list → tuple\n",
    "\n",
    "print(\"Reversed tuple:\", t1)"
   ]
  },
  {
   "cell_type": "markdown",
   "id": "75f66113-387a-4358-9560-ef1a787804e1",
   "metadata": {},
   "source": [
    "##### 12. Extract unique elements from a tuple and store them in a new list."
   ]
  },
  {
   "cell_type": "code",
   "execution_count": 76,
   "id": "9bdf17b8-fc5c-447d-9f33-e3f408412896",
   "metadata": {},
   "outputs": [
    {
     "name": "stdout",
     "output_type": "stream",
     "text": [
      "[1, 'hii', 2, 4, False, [9, 8, 7, 6], 6, 7]\n"
     ]
    }
   ],
   "source": [
    "tuple = (1,\"hii\",True,2,4,False,[9,8,7,6],2,1,4,6,6,7)\n",
    "unique = []\n",
    "for i in tuple:\n",
    "    if i not in unique:\n",
    "        unique.append(i)\n",
    "print(unique)"
   ]
  },
  {
   "cell_type": "markdown",
   "id": "f57f8296-4a36-4b12-b833-561195c5247d",
   "metadata": {},
   "source": [
    "##### 13. Concatenate two tuples and sort them."
   ]
  },
  {
   "cell_type": "code",
   "execution_count": 2,
   "id": "5c40fa4e-3c5d-4d20-889e-785948598c34",
   "metadata": {},
   "outputs": [
    {
     "name": "stdout",
     "output_type": "stream",
     "text": [
      "(10, 11, 22, 33, 38, 55, 56, 74, 77, 88, 92)\n"
     ]
    }
   ],
   "source": [
    "t1 = (55,77,33,22,88,11)\n",
    "t2 = (10,92,38,74,56)\n",
    "Concatenate = t1 + t2\n",
    "sort = tuple(sorted(Concatenate))\n",
    "print(sort)"
   ]
  },
  {
   "cell_type": "markdown",
   "id": "a3c1449c-edbc-4085-bacb-8ed4407f88bb",
   "metadata": {},
   "source": [
    "##### 14. Count the frequency of an element in a tuple without using count()."
   ]
  },
  {
   "cell_type": "code",
   "execution_count": 54,
   "id": "fed08252-91a9-44fa-b9a0-301740582443",
   "metadata": {},
   "outputs": [
    {
     "name": "stdin",
     "output_type": "stream",
     "text": [
      "Enter the element: 5\n"
     ]
    },
    {
     "name": "stdout",
     "output_type": "stream",
     "text": [
      "element 5 -- count 4\n"
     ]
    }
   ],
   "source": [
    "a1 = (3,6,5,9,5,3,6,7,6,5,2,7,8,9,4,5,7,2,1,4) # 1st way\n",
    "element = int(input(\"Enter the element:\"))\n",
    "count = 0\n",
    "for i in a1:\n",
    "    if i == element:\n",
    "        count += 1\n",
    "print(\"element\",element,\"--\",\"count\",count)"
   ]
  },
  {
   "cell_type": "code",
   "execution_count": 55,
   "id": "3cefbb04-df3c-4aa9-b920-636db539ebd8",
   "metadata": {},
   "outputs": [
    {
     "name": "stdin",
     "output_type": "stream",
     "text": [
      "Enter the element: 5\n"
     ]
    },
    {
     "name": "stdout",
     "output_type": "stream",
     "text": [
      "Count 4\n"
     ]
    }
   ],
   "source": [
    "t = (3,6,5,9,5,3,6,7,6,5,2,7,8,9,4,5,7,2,1,4)  # 2nd way\n",
    "element = int(input(\"Enter the element:\"))\n",
    "count = sum(1 for x in t if x == element)\n",
    "print(\"Count\", count)"
   ]
  },
  {
   "cell_type": "markdown",
   "id": "d848d8b2-311a-4c47-b55a-781eec9babb0",
   "metadata": {},
   "source": [
    "##### 15. From a tuple of numbers, create two tuples: one with even numbers and one with odd numbers"
   ]
  },
  {
   "cell_type": "code",
   "execution_count": 56,
   "id": "713c6a59-7135-4380-a609-31e5769b9861",
   "metadata": {},
   "outputs": [
    {
     "name": "stdout",
     "output_type": "stream",
     "text": [
      "even (2, 4, 6, 8, 0)\n",
      "odd (1, 3, 5, 7, 9)\n"
     ]
    }
   ],
   "source": [
    "n = (1,2,3,4,5,6,7,8,9,0)\n",
    "even = []\n",
    "odd = []\n",
    "for i in n:\n",
    "    if i % 2 == 0:\n",
    "        even.append(i)\n",
    "    else:\n",
    "        odd.append(i)\n",
    "even = tuple(even)\n",
    "odd = tuple(odd)\n",
    "print(\"even\",even)\n",
    "print(\"odd\",odd)\n",
    "    "
   ]
  },
  {
   "cell_type": "code",
   "execution_count": 57,
   "id": "506af0aa-6c19-4c30-9b87-32cb5a925d8e",
   "metadata": {},
   "outputs": [
    {
     "name": "stdout",
     "output_type": "stream",
     "text": [
      "Even (2, 4, 6, 8, 0)\n",
      "Odd (1, 3, 5, 7, 9)\n"
     ]
    }
   ],
   "source": [
    "t = (1,2,3,4,5,6,7,8,9,0)\n",
    "even = tuple(i for i in t if i % 2 == 0)\n",
    "odd = tuple(i for i in t if i % 2 != 0)\n",
    "print(\"Even\",even)\n",
    "print(\"Odd\",odd)"
   ]
  },
  {
   "cell_type": "markdown",
   "id": "40e76ada-8934-42f8-b19c-b3a09b65121b",
   "metadata": {},
   "source": [
    "### 4. Set (5 Questions)"
   ]
  },
  {
   "cell_type": "markdown",
   "id": "8e5874f9-5cef-4b77-899f-95a7a509dd4c",
   "metadata": {},
   "source": [
    "##### 16. Perform union, intersection, and difference of two sets without using built-in operators.\n",
    " "
   ]
  },
  {
   "cell_type": "code",
   "execution_count": 15,
   "id": "08e07cdb-fffa-4e70-b486-7bf8324d6eb8",
   "metadata": {},
   "outputs": [
    {
     "name": "stdout",
     "output_type": "stream",
     "text": [
      "Union: {1, 2, 3, 4, 5, 6}\n"
     ]
    }
   ],
   "source": [
    "# Union\n",
    "A = {1,2,3}\n",
    "B = {4,5,6}\n",
    "set = A|B\n",
    "print(\"Union:\", set)"
   ]
  },
  {
   "cell_type": "code",
   "execution_count": 4,
   "id": "750a88bd-2268-445a-b025-bfb9b5a368b3",
   "metadata": {},
   "outputs": [
    {
     "name": "stdout",
     "output_type": "stream",
     "text": [
      "Intersection: {3, 4}\n"
     ]
    }
   ],
   "source": [
    "# Intersection\n",
    "A = {1,2,3,4}\n",
    "B = {3,4,5,6}\n",
    "intersection_set = A & B\n",
    "print(\"Intersection:\",intersection_set)"
   ]
  },
  {
   "cell_type": "code",
   "execution_count": 5,
   "id": "e66e3e1a-5f40-49b7-ac1a-b2410b641a86",
   "metadata": {},
   "outputs": [
    {
     "name": "stdout",
     "output_type": "stream",
     "text": [
      "A - B: {1, 2}\n",
      "B - A: {5, 6}\n"
     ]
    }
   ],
   "source": [
    "# difference\n",
    "A = {1,2,3,4}\n",
    "B = {3,4,5,6}\n",
    "diff1 = A - B\n",
    "diff2 = B - A\n",
    "print(\"A - B:\",diff1)\n",
    "print(\"B - A:\",diff2)"
   ]
  },
  {
   "cell_type": "markdown",
   "id": "88242c33-cb2e-4620-89ec-2d33f9aabca5",
   "metadata": {},
   "source": [
    "##### 17. Remove a random element from a set (without using pop()).\n",
    " "
   ]
  },
  {
   "cell_type": "code",
   "execution_count": 11,
   "id": "72c17547-6957-4d7f-b6e9-b74aec455153",
   "metadata": {},
   "outputs": [
    {
     "name": "stdout",
     "output_type": "stream",
     "text": [
      "Removed: 1\n",
      "Updated: {0, 2, 3, 4, 5, 6, 7, 8, 9}\n"
     ]
    }
   ],
   "source": [
    "import random\n",
    "s = {1,2,3,4,5,6,7,8,9,0} # set\n",
    "x = list(s) # converting set into list\n",
    "y = random.choice(x)  # it will pick any random element\n",
    "s.remove(y) # and remove that random element from set\n",
    "\n",
    "print(\"Removed:\",y)\n",
    "print(\"Updated:\",s)"
   ]
  },
  {
   "cell_type": "markdown",
   "id": "766d9da8-baaf-4791-8128-e2dc39d93825",
   "metadata": {},
   "source": [
    "##### 18. Convert a list into a set and check if duplicates are removed.\n"
   ]
  },
  {
   "cell_type": "code",
   "execution_count": 24,
   "id": "e401ada4-8bbf-4588-a54d-1cb759bf1e50",
   "metadata": {},
   "outputs": [
    {
     "name": "stdout",
     "output_type": "stream",
     "text": [
      "{2, 4, 5, 6, 7}\n"
     ]
    }
   ],
   "source": [
    "l1 = [2,2,4,4,5,5,6,6,6,7,7,7]\n",
    "s1 = set(l1)\n",
    "print(s1)"
   ]
  },
  {
   "cell_type": "markdown",
   "id": "af83ad69-4346-447d-85a5-482638880b74",
   "metadata": {},
   "source": [
    "##### 19. Check if two sets are disjoint.\n",
    " "
   ]
  },
  {
   "cell_type": "code",
   "execution_count": 46,
   "id": "b1a01a90-1f1a-47df-acdd-9e441cc6ac3a",
   "metadata": {},
   "outputs": [
    {
     "data": {
      "text/plain": [
       "True"
      ]
     },
     "execution_count": 46,
     "metadata": {},
     "output_type": "execute_result"
    }
   ],
   "source": [
    "a ={1,2}\n",
    "b ={3,4}\n",
    "a.isdisjoint(b)"
   ]
  },
  {
   "cell_type": "markdown",
   "id": "c1e316c0-99bc-40c3-aa89-a0502af03d10",
   "metadata": {},
   "source": [
    "##### 20. Find the sum of all elements in a set."
   ]
  },
  {
   "cell_type": "code",
   "execution_count": 48,
   "id": "427c41cf-d0b4-4c22-9958-5c3949ccf115",
   "metadata": {},
   "outputs": [
    {
     "data": {
      "text/plain": [
       "137180"
      ]
     },
     "execution_count": 48,
     "metadata": {},
     "output_type": "execute_result"
    }
   ],
   "source": [
    "q = {10,129,1238,12347,123456}\n",
    "sum(q)"
   ]
  },
  {
   "cell_type": "markdown",
   "id": "f0fcd1c2-04f1-4e90-b90e-171ea3883b16",
   "metadata": {},
   "source": [
    "### 5. Dictionary (5 Questions)"
   ]
  },
  {
   "cell_type": "markdown",
   "id": "c5b04fc9-1985-4b30-bfb3-1328430b73cc",
   "metadata": {},
   "source": [
    "##### 21. Create a dictionary and print keys in ascending order."
   ]
  },
  {
   "cell_type": "code",
   "execution_count": 2,
   "id": "1e67a67e-ddac-4eda-a03f-232597693bf4",
   "metadata": {},
   "outputs": [
    {
     "name": "stdout",
     "output_type": "stream",
     "text": [
      "Original Dictionary: {'c': 3, 'a': 1, 'b': 2}\n",
      "Keys in ascending order: ['a', 'b', 'c']\n"
     ]
    }
   ],
   "source": [
    "my_dict = {\"c\": 3, \"a\": 1, \"b\": 2}             # 1st way\n",
    "\n",
    "print(\"Original Dictionary:\", my_dict)\n",
    "print(\"Keys in ascending order:\", sorted(my_dict.keys()))"
   ]
  },
  {
   "cell_type": "code",
   "execution_count": 3,
   "id": "f0cb8cbf-aa58-4622-9bf2-64f36066e965",
   "metadata": {},
   "outputs": [
    {
     "name": "stdout",
     "output_type": "stream",
     "text": [
      "['a', 'b', 'c']\n"
     ]
    }
   ],
   "source": [
    "dict = {\"c\": 3, \"a\": 1, \"b\": 2}      # 2nd way \n",
    "s=sorted(dict.keys())\n",
    "print(s)"
   ]
  },
  {
   "cell_type": "markdown",
   "id": "4e012b68-535d-4413-b0a0-0373097ca18a",
   "metadata": {},
   "source": [
    "##### 22. Add a new key to a dictionary with value equal to the sum of existing values.\n"
   ]
  },
  {
   "cell_type": "code",
   "execution_count": 4,
   "id": "fe282be7-4375-4ce9-85d2-4c563dc7109b",
   "metadata": {},
   "outputs": [
    {
     "name": "stdout",
     "output_type": "stream",
     "text": [
      "60\n"
     ]
    }
   ],
   "source": [
    "d = {\"a\": 10, \"b\": 20, \"c\": 30} \n",
    "d_total = sum(d.values())\n",
    "print(d_total)"
   ]
  },
  {
   "cell_type": "markdown",
   "id": "0ed42bdc-6d05-4c40-a6d0-3a6eb8f11ef8",
   "metadata": {},
   "source": [
    "##### 23. Merge two dictionaries into one."
   ]
  },
  {
   "cell_type": "code",
   "execution_count": 5,
   "id": "edc1dd27-1bc1-4251-9663-b2d2f1df20cf",
   "metadata": {},
   "outputs": [
    {
     "name": "stdout",
     "output_type": "stream",
     "text": [
      "{'a': 1, 'b': 2, 'c': 3, 'd': 4}\n"
     ]
    }
   ],
   "source": [
    "d1 = {\"a\": 1, \"b\": 2}\n",
    "d2 = {\"c\": 3, \"d\": 4}\n",
    "\n",
    "d1.update(d2)\n",
    "print(d1)"
   ]
  },
  {
   "cell_type": "code",
   "execution_count": 6,
   "id": "0ef47568-c4ac-45ce-aaf2-9ce57825cb89",
   "metadata": {},
   "outputs": [
    {
     "name": "stdout",
     "output_type": "stream",
     "text": [
      "{'c': 3, 'd': 4, 'a': 1, 'b': 2}\n"
     ]
    }
   ],
   "source": [
    "d1 = {\"a\": 1, \"b\": 2}\n",
    "d2 = {\"c\": 3, \"d\": 4}\n",
    "\n",
    "d2.update(d1)\n",
    "print(d2)"
   ]
  },
  {
   "cell_type": "code",
   "execution_count": 7,
   "id": "47931e24-3c28-45a0-be93-27fd202dbd3a",
   "metadata": {},
   "outputs": [
    {
     "name": "stdout",
     "output_type": "stream",
     "text": [
      "{'a': 1, 'b': 2, 'c': 3, 'd': 4}\n"
     ]
    }
   ],
   "source": [
    "d1 = {\"a\": 1, \"b\": 2}\n",
    "d2 = {\"c\": 3, \"d\": 4}\n",
    "merged = {**d1,**d2}\n",
    "print(merged)"
   ]
  },
  {
   "cell_type": "markdown",
   "id": "f5980f06-af4e-4a9c-853e-9efe7faaed5a",
   "metadata": {},
   "source": [
    "##### 24. Find the key with the largest value in a dictionary."
   ]
  },
  {
   "cell_type": "code",
   "execution_count": 8,
   "id": "60482ec9-506c-455c-b518-683788dbf979",
   "metadata": {},
   "outputs": [
    {
     "name": "stdout",
     "output_type": "stream",
     "text": [
      "b\n"
     ]
    }
   ],
   "source": [
    "d = {\"a\": 50, \"b\": 150, \"c\": 100}\n",
    "max_key = max(d, key=d.get)\n",
    "print(max_key)"
   ]
  },
  {
   "cell_type": "markdown",
   "id": "50207873-e4f9-4020-af28-deaceaafd218",
   "metadata": {},
   "source": [
    "##### 25. Store the frequency of characters of a string in a dictionary."
   ]
  },
  {
   "cell_type": "code",
   "execution_count": 58,
   "id": "07f9e638-3407-419f-9138-7e05dfca9f58",
   "metadata": {},
   "outputs": [
    {
     "name": "stdout",
     "output_type": "stream",
     "text": [
      "{'h': 1, 'c': 2, 'o': 2, 'l': 1, 't': 1, 'a': 1, 'e': 1}\n"
     ]
    }
   ],
   "source": [
    "s = \"chocolate\"\n",
    "freq = {ch: s.count(ch) for ch in set(s)}\n",
    "print(freq)"
   ]
  },
  {
   "cell_type": "markdown",
   "id": "33d2554d-ca48-44f2-bb0d-2cc7c5694a8f",
   "metadata": {},
   "source": [
    "### 6. Conditional Statements (5 Questions)"
   ]
  },
  {
   "cell_type": "markdown",
   "id": "4ea09fab-96e0-444a-a51c-8f256db6100c",
   "metadata": {},
   "source": [
    "##### 26. Take age as input and check if the person is eligible to vote or not."
   ]
  },
  {
   "cell_type": "code",
   "execution_count": 3,
   "id": "4064b13d-043a-4cf1-9564-f859ee9361eb",
   "metadata": {},
   "outputs": [],
   "source": [
    "def Eligibility():\n",
    "    age = int(input(\"Enter your age: \"))\n",
    "    if age >= 18:\n",
    "        print(\"You are eligible to vote.\")\n",
    "    else:\n",
    "        print(\"You are not eligible to vote.\")"
   ]
  },
  {
   "cell_type": "code",
   "execution_count": 5,
   "id": "f75e4d97-8dd0-42a1-8639-d8d4047293f5",
   "metadata": {},
   "outputs": [
    {
     "name": "stdin",
     "output_type": "stream",
     "text": [
      "Enter your age:  21\n"
     ]
    },
    {
     "name": "stdout",
     "output_type": "stream",
     "text": [
      "You are eligible to vote.\n"
     ]
    }
   ],
   "source": [
    "Eligibility()"
   ]
  },
  {
   "cell_type": "markdown",
   "id": "534d514c-ceae-4651-ace7-de058fe4f0f6",
   "metadata": {},
   "source": [
    "##### 27. Find the largest among three numbers (using nested if)."
   ]
  },
  {
   "cell_type": "code",
   "execution_count": 8,
   "id": "ecbd4189-760f-4517-a50f-eb417e342685",
   "metadata": {},
   "outputs": [
    {
     "name": "stdin",
     "output_type": "stream",
     "text": [
      "Enter first number:  10\n",
      "Enter second number:  56\n",
      "Enter third number:  38\n"
     ]
    },
    {
     "name": "stdout",
     "output_type": "stream",
     "text": [
      "Largest number is: 56\n"
     ]
    }
   ],
   "source": [
    "a = int(input(\"Enter first number: \"))\n",
    "b = int(input(\"Enter second number: \"))\n",
    "c = int(input(\"Enter third number: \"))\n",
    "\n",
    "if a >= b:\n",
    "    if a >= c:\n",
    "        print(\"Largest number is:\", a)\n",
    "    else:\n",
    "        print(\"Largest number is:\", c)\n",
    "else:\n",
    "    if b >= c:\n",
    "        print(\"Largest number is:\", b)\n",
    "    else:\n",
    "        print(\"Largest number is:\", c)"
   ]
  },
  {
   "cell_type": "code",
   "execution_count": 13,
   "id": "43e31493-f08d-4e05-a23e-f8cc5aff367e",
   "metadata": {},
   "outputs": [
    {
     "name": "stdout",
     "output_type": "stream",
     "text": [
      "Largest number is: 30\n"
     ]
    }
   ],
   "source": [
    "a,b,c = 10,20,30\n",
    "if a > b and a > c:\n",
    "    print(\"Largest number is:\",a)\n",
    "elif b > a and b > c:\n",
    "    print(\"Largest number is:\",b)\n",
    "else:\n",
    "    print(\"Largest number is:\",c)"
   ]
  },
  {
   "cell_type": "code",
   "execution_count": 14,
   "id": "21b49aec-646c-4c9f-b02c-f32f1fcd06e5",
   "metadata": {},
   "outputs": [
    {
     "name": "stdout",
     "output_type": "stream",
     "text": [
      "Largest number is: 30\n"
     ]
    }
   ],
   "source": [
    "a,b,c = 10,20,30\n",
    "print(\"Largest number is:\",max(a,b,c))"
   ]
  },
  {
   "cell_type": "markdown",
   "id": "87e13f3b-9977-47e1-9509-c70b8ad0d249",
   "metadata": {},
   "source": [
    "##### 28. Check if a given number is prime or not."
   ]
  },
  {
   "cell_type": "code",
   "execution_count": 19,
   "id": "d42086fc-3751-47d1-af95-222a6aa5e8a4",
   "metadata": {},
   "outputs": [
    {
     "name": "stdin",
     "output_type": "stream",
     "text": [
      "enter a number  55555547951\n"
     ]
    },
    {
     "name": "stdout",
     "output_type": "stream",
     "text": [
      "Not a prime number\n"
     ]
    }
   ],
   "source": [
    "n = int(input(\"enter a number \"))\n",
    "if n <= 1:\n",
    "    print(\"Not a prime number\")\n",
    "elif n==2  or n==3:\n",
    "    print(\"It is a prime number\")\n",
    "else:\n",
    "    for i in range(2,n):  # its check that if n is divisible by any number between 2 and n-1 if yes then its not a prime number,\n",
    "        if n % i == 0 :\n",
    "            print(\"Not a prime number\")\n",
    "            break\n",
    "    else:\n",
    "        print(\"It is a prime number\")"
   ]
  },
  {
   "cell_type": "markdown",
   "id": "7c42e5ef-b540-4fd6-820d-1712e1db7e0a",
   "metadata": {},
   "source": [
    "##### 29. Assign grade (A, B, C, Fail) based on marks input."
   ]
  },
  {
   "cell_type": "code",
   "execution_count": 1,
   "id": "3780ef2a-0795-4e87-9bb1-c1ed6de29cf0",
   "metadata": {},
   "outputs": [],
   "source": [
    "def assign_grade():\n",
    "    marks = int(input(\"Enter your marks: \"))\n",
    "    if marks >= 90:\n",
    "        print(\"Grade: A\")\n",
    "    elif marks >= 75:\n",
    "        print(\"Grade: B\")\n",
    "    elif marks >= 50:\n",
    "        print(\"Grade: C\")\n",
    "    else:\n",
    "        print(\"Grade: Fail\")"
   ]
  },
  {
   "cell_type": "code",
   "execution_count": 2,
   "id": "fbe19105-9d0e-455c-b6a0-ad9a1573929d",
   "metadata": {},
   "outputs": [
    {
     "name": "stdin",
     "output_type": "stream",
     "text": [
      "Enter your marks:  75\n"
     ]
    },
    {
     "name": "stdout",
     "output_type": "stream",
     "text": [
      "Grade: B\n"
     ]
    }
   ],
   "source": [
    "assign_grade()"
   ]
  },
  {
   "cell_type": "markdown",
   "id": "c8082993-f73a-4658-a0d9-ad593ad8e41e",
   "metadata": {},
   "source": [
    "##### 30. Check if a number is positive, negative, or zero."
   ]
  },
  {
   "cell_type": "code",
   "execution_count": 6,
   "id": "0a10540f-47a0-4dae-845b-7c69ee408ae3",
   "metadata": {},
   "outputs": [],
   "source": [
    "def check_number():\n",
    "    num = int(input(\"Enter a number: \"))\n",
    "    if num > 0:\n",
    "        print(\"The number is Positive.\")\n",
    "    elif num < 0:\n",
    "        print(\"The number is Negative.\")\n",
    "    else:\n",
    "        print(\"The number is Zero.\")"
   ]
  },
  {
   "cell_type": "code",
   "execution_count": 7,
   "id": "54ec89dc-34f7-414d-bcf0-8ad629842167",
   "metadata": {},
   "outputs": [
    {
     "name": "stdin",
     "output_type": "stream",
     "text": [
      "Enter a number:  -1\n"
     ]
    },
    {
     "name": "stdout",
     "output_type": "stream",
     "text": [
      "The number is Negative.\n"
     ]
    }
   ],
   "source": [
    "check_number()"
   ]
  },
  {
   "cell_type": "markdown",
   "id": "0b3b1a1c-bed4-411e-acdc-4822f16ec557",
   "metadata": {},
   "source": [
    "### 7. Loops – For & While (5 Questions)"
   ]
  },
  {
   "cell_type": "markdown",
   "id": "8343d1d8-0198-47e9-bd57-552ff08143d6",
   "metadata": {},
   "source": [
    "##### 31. Print the first 10 numbers of the Fibonacci series using for loop."
   ]
  },
  {
   "cell_type": "code",
   "execution_count": 63,
   "id": "bb855ab5-2208-4e8c-866e-c07bab563cf2",
   "metadata": {},
   "outputs": [
    {
     "name": "stdout",
     "output_type": "stream",
     "text": [
      "0 1 1 2 3 5 8 13 21 34 "
     ]
    }
   ],
   "source": [
    "a,b = 0,1\n",
    "for _ in range(10):\n",
    "    print(a,end= \" \")\n",
    "    a, b = b, a+b"
   ]
  },
  {
   "cell_type": "markdown",
   "id": "417a248e-60fe-42d7-8a2d-f37b8e19735b",
   "metadata": {},
   "source": [
    "##### 32. Find the factorial of a number using while loop."
   ]
  },
  {
   "cell_type": "code",
   "execution_count": 65,
   "id": "031f7d8a-9bd7-469c-8979-02e53744595b",
   "metadata": {},
   "outputs": [
    {
     "name": "stdout",
     "output_type": "stream",
     "text": [
      "\n",
      "Factorial: 120\n"
     ]
    }
   ],
   "source": [
    "n= 5\n",
    "fact = 1\n",
    "while n > 0:\n",
    "    fact *= n\n",
    "    n -= 1\n",
    "print(\"\\nFactorial:\",fact)"
   ]
  },
  {
   "cell_type": "markdown",
   "id": "c2aa8c8f-202a-48cc-b447-3d57df72fe60",
   "metadata": {},
   "source": [
    "##### 33. Input a number and find the sum of its digits using while loop."
   ]
  },
  {
   "cell_type": "code",
   "execution_count": 68,
   "id": "f163582f-70dd-429b-86a5-e7736bf20f3c",
   "metadata": {},
   "outputs": [
    {
     "name": "stdout",
     "output_type": "stream",
     "text": [
      "sum of didgit: 10\n"
     ]
    }
   ],
   "source": [
    "n = 1234\n",
    "s = 0\n",
    "while n > 0:\n",
    "    s += n % 10\n",
    "    n //= 10\n",
    "print(\"sum of didgit:\",s)"
   ]
  },
  {
   "cell_type": "markdown",
   "id": "01fa8c43-eb64-440e-96e8-514bbad9c497",
   "metadata": {},
   "source": [
    "##### 34. Print all elements of a list in reverse order without using reverse()."
   ]
  },
  {
   "cell_type": "code",
   "execution_count": 20,
   "id": "9d1a9c77-92b1-4a1a-90ec-507504a26674",
   "metadata": {},
   "outputs": [
    {
     "name": "stdout",
     "output_type": "stream",
     "text": [
      "[50, 45, 40, 35, 30, 25, 20, 15, 10, 5]\n"
     ]
    }
   ],
   "source": [
    "z1 = [5,10,15,20,25,30,35,40,45,50]\n",
    "my_list = z1[::-1]\n",
    "print(my_list)"
   ]
  },
  {
   "cell_type": "markdown",
   "id": "dedf8a2d-c675-4cad-9710-a8d166594c4a",
   "metadata": {},
   "source": [
    "##### 35. Print a star pattern (triangle) using nested loops"
   ]
  },
  {
   "cell_type": "code",
   "execution_count": 7,
   "id": "f74d193d-f04f-41c7-9d18-e7cc9fb12006",
   "metadata": {},
   "outputs": [
    {
     "name": "stdin",
     "output_type": "stream",
     "text": [
      "Enter the num: 5\n"
     ]
    },
    {
     "name": "stdout",
     "output_type": "stream",
     "text": [
      "* \n",
      "* * \n",
      "* * * \n",
      "* * * * \n",
      "* * * * * \n"
     ]
    }
   ],
   "source": [
    "num = int(input(\"Enter the num:\"))\n",
    "for i in range(num):\n",
    "    for j in range(i + 1):\n",
    "        print(\"*\",end = \" \")\n",
    "    print()"
   ]
  },
  {
   "cell_type": "markdown",
   "id": "9912fc05-eaef-46e5-8f28-1666b0e2e9da",
   "metadata": {},
   "source": [
    "### 8. File Handling (5 Questions)"
   ]
  },
  {
   "cell_type": "markdown",
   "id": "e2f6ddb5-8fe7-4588-b331-9d16583ff853",
   "metadata": {},
   "source": [
    "##### 36. Write some text into a file and then read and print it."
   ]
  },
  {
   "cell_type": "code",
   "execution_count": 41,
   "id": "8790de7a-fcaa-4000-aa1a-6cdbcbaefc4f",
   "metadata": {},
   "outputs": [],
   "source": [
    "f = open(\"123.txt\", \"w\")\n",
    "f.write(\"Hello its my fisrt time studying python. It's very important language for coding. We need to practice hard to understand it.\")\n",
    "f.close()"
   ]
  },
  {
   "cell_type": "code",
   "execution_count": 42,
   "id": "a3cd77af-0f2a-4ff5-81f2-765a5997b2d6",
   "metadata": {},
   "outputs": [],
   "source": [
    "f = open(\"123.txt\", \"r\")"
   ]
  },
  {
   "cell_type": "code",
   "execution_count": 43,
   "id": "6256dd0e-faa5-4242-bbf8-d338b8422a31",
   "metadata": {},
   "outputs": [
    {
     "data": {
      "text/plain": [
       "\"Hello its my fisrt time studying python. It's very important language for coding. We need to practice hard to understand it.\""
      ]
     },
     "execution_count": 43,
     "metadata": {},
     "output_type": "execute_result"
    }
   ],
   "source": [
    "f.read()"
   ]
  },
  {
   "cell_type": "markdown",
   "id": "8df4e485-b9df-4b80-a3a4-3ac6de7aab0c",
   "metadata": {},
   "source": [
    "##### 37. Count the total number of lines in a file."
   ]
  },
  {
   "cell_type": "code",
   "execution_count": 73,
   "id": "4d498c41-1b64-4baf-8f0f-b06e0138f9f8",
   "metadata": {},
   "outputs": [
    {
     "name": "stdout",
     "output_type": "stream",
     "text": [
      "Lines: 0\n"
     ]
    }
   ],
   "source": [
    "file = open(\"123.txt\", \"r\")\n",
    "line = file.readline()\n",
    "print(\"Lines:\", len(file.readline()))"
   ]
  },
  {
   "cell_type": "code",
   "execution_count": 74,
   "id": "b1879be2-869a-4970-bb29-28406ba2d9d1",
   "metadata": {},
   "outputs": [
    {
     "name": "stdout",
     "output_type": "stream",
     "text": [
      "Lines: 0\n"
     ]
    }
   ],
   "source": [
    "with open(\"123.txt\", \"r\") as f:\n",
    "    print(\"Lines:\", len(file.readline()))"
   ]
  },
  {
   "cell_type": "markdown",
   "id": "7bf1dea5-f116-4fc3-a9ff-ee2a777a67e5",
   "metadata": {},
   "source": [
    "##### 38. Count vowels and consonants in a file."
   ]
  },
  {
   "cell_type": "code",
   "execution_count": 50,
   "id": "53fe97aa-12a6-4e80-a09b-b345c8ddb4fb",
   "metadata": {},
   "outputs": [
    {
     "name": "stdout",
     "output_type": "stream",
     "text": [
      "Vowels: 34\n",
      "Consonants: 66\n"
     ]
    }
   ],
   "source": [
    "f = open(\"123.txt\", \"r\")\n",
    "text = f.read().lower()\n",
    "f.close()\n",
    "\n",
    "vowels = 0\n",
    "consonants = 0\n",
    "\n",
    "for ch in text:\n",
    "    if ch.isalpha():\n",
    "        if ch in \"aeiou\":\n",
    "            vowels += 1\n",
    "        else:\n",
    "            consonants += 1\n",
    "\n",
    "print(\"Vowels:\", vowels)\n",
    "print(\"Consonants:\", consonants)"
   ]
  },
  {
   "cell_type": "code",
   "execution_count": 75,
   "id": "007d05cf-68aa-470a-9cfa-8e1b1a35ef7c",
   "metadata": {},
   "outputs": [
    {
     "name": "stdout",
     "output_type": "stream",
     "text": [
      "Vowels: 34 Consonants: 66\n"
     ]
    }
   ],
   "source": [
    "with open(\"123.txt\") as f:\n",
    "    text = f.read().lower()\n",
    "vowels = sum(ch in \"aeiou\" for ch in text)\n",
    "consonants = sum(ch. isalpha() and ch not in \"aeiou\" for ch in text)\n",
    "print(\"Vowels:\",vowels, \"Consonants:\",consonants)"
   ]
  },
  {
   "cell_type": "markdown",
   "id": "bc0a5e41-0313-429a-ab7c-b5a3d7d3cd4a",
   "metadata": {},
   "source": [
    "##### 39. Convert the content of a file into uppercase and store it in another file."
   ]
  },
  {
   "cell_type": "code",
   "execution_count": 78,
   "id": "7c33b7f0-6219-4046-92a8-5097a5dfbe08",
   "metadata": {},
   "outputs": [],
   "source": [
    "with open(\"123.txt\") as f:\n",
    "    data = f.read().upper()\n",
    "with open(\"upper.txt\", \"w\") as f:\n",
    "    f.write(data)\n",
    "    f.close()"
   ]
  },
  {
   "cell_type": "code",
   "execution_count": 83,
   "id": "e8fd77b3-66bf-41f7-91bb-015d96c069a8",
   "metadata": {},
   "outputs": [
    {
     "data": {
      "text/plain": [
       "\"HELLO ITS MY FISRT TIME STUDYING PYTHON. IT'S VERY IMPORTANT LANGUAGE FOR CODING. WE NEED TO PRACTICE HARD TO UNDERSTAND IT.\""
      ]
     },
     "execution_count": 83,
     "metadata": {},
     "output_type": "execute_result"
    }
   ],
   "source": [
    "f = open(\"upper.txt\", \"r\") \n",
    "f.read()"
   ]
  },
  {
   "cell_type": "markdown",
   "id": "57f51bba-acaa-4411-b0bf-522ca5043775",
   "metadata": {},
   "source": [
    "##### 40. Read a CSV file and print its rows."
   ]
  },
  {
   "cell_type": "code",
   "execution_count": 22,
   "id": "5000a874-ee9c-49ea-9d0b-f831987298b4",
   "metadata": {},
   "outputs": [
    {
     "name": "stdout",
     "output_type": "stream",
     "text": [
      "[\"Hello its my fisrt time studying python. It's very important language for coding. We need to practice hard to understand it.\"]\n"
     ]
    }
   ],
   "source": [
    "import csv\n",
    "with open(\"123.txt\", newline=\"\") as f:\n",
    "    reader = csv.reader(f)\n",
    "    for row in reader:\n",
    "        print(row)"
   ]
  },
  {
   "cell_type": "markdown",
   "id": "fbe08e9c-e974-4f09-aa6e-04ee21b0a9df",
   "metadata": {},
   "source": [
    "### 9. OS Module (5 Questions)"
   ]
  },
  {
   "cell_type": "code",
   "execution_count": 23,
   "id": "50e8aa74-f833-4b96-a147-1c34652f0450",
   "metadata": {},
   "outputs": [],
   "source": [
    "import os"
   ]
  },
  {
   "cell_type": "markdown",
   "id": "92c3c052-576a-4637-b1ea-ddef22e9400c",
   "metadata": {},
   "source": [
    "##### 41. Print the current working directory using os module."
   ]
  },
  {
   "cell_type": "code",
   "execution_count": 88,
   "id": "8df941df-621b-4243-8cfe-0a1267c3e802",
   "metadata": {},
   "outputs": [
    {
     "name": "stdout",
     "output_type": "stream",
     "text": [
      "C:\\Users\\Kashish\n"
     ]
    }
   ],
   "source": [
    "print(os.getcwd())"
   ]
  },
  {
   "cell_type": "markdown",
   "id": "63121702-1421-4f61-b365-b0a7e0223583",
   "metadata": {},
   "source": [
    "##### 42. Create a new folder using os module and create a file inside it."
   ]
  },
  {
   "cell_type": "code",
   "execution_count": 90,
   "id": "5157d8ed-6577-4ae0-ab6c-bf90a19d6372",
   "metadata": {},
   "outputs": [
    {
     "name": "stdout",
     "output_type": "stream",
     "text": [
      "Succesfully create the folder and file\n"
     ]
    }
   ],
   "source": [
    "os.mkdir(\"ABCD\")\n",
    "f = open(\"ABCD/newfile.txt\",\"w\")\n",
    "f.write(\"my file is inside ABCD\")\n",
    "f.close()\n",
    "print(\"Succesfully create the folder and file\")"
   ]
  },
  {
   "cell_type": "markdown",
   "id": "485fb3ab-d8b5-45d6-9aeb-6cef8b5ce766",
   "metadata": {},
   "source": [
    "##### 43. List all files and folders inside a directory."
   ]
  },
  {
   "cell_type": "code",
   "execution_count": 91,
   "id": "6a44eb3a-8198-42e0-a677-12fcfe1a3afb",
   "metadata": {},
   "outputs": [
    {
     "data": {
      "text/plain": [
       "['.anaconda',\n",
       " '.conda',\n",
       " '.ipynb_checkpoints',\n",
       " '.ipython',\n",
       " '.jupyter',\n",
       " '.vscode',\n",
       " '123.txt',\n",
       " 'ABC',\n",
       " 'ABCD',\n",
       " 'Alphabet',\n",
       " 'anaconda3',\n",
       " 'ansel',\n",
       " 'AppData',\n",
       " 'Application Data',\n",
       " 'Assignment.ipynb',\n",
       " 'Cookies',\n",
       " 'Documents',\n",
       " 'Downloads',\n",
       " 'Local Settings',\n",
       " 'Music',\n",
       " 'My Documents',\n",
       " 'MY Python',\n",
       " 'myfile.txt',\n",
       " 'NetHood',\n",
       " 'New folder',\n",
       " 'newfolder12',\n",
       " 'NTUSER.DAT',\n",
       " 'ntuser.dat.LOG1',\n",
       " 'ntuser.dat.LOG2',\n",
       " 'NTUSER.DAT{8376920c-c597-11ef-b65f-60ff9e83f3c7}.TM.blf',\n",
       " 'NTUSER.DAT{8376920c-c597-11ef-b65f-60ff9e83f3c7}.TMContainer00000000000000000001.regtrans-ms',\n",
       " 'NTUSER.DAT{8376920c-c597-11ef-b65f-60ff9e83f3c7}.TMContainer00000000000000000002.regtrans-ms',\n",
       " 'ntuser.ini',\n",
       " 'OneDrive',\n",
       " 'PrintHood',\n",
       " 'Python',\n",
       " 'Recent',\n",
       " 'SendTo',\n",
       " 'Start Menu',\n",
       " 'Templates',\n",
       " 'upper.txt',\n",
       " 'userfunction(def).ipynb',\n",
       " 'Videos']"
      ]
     },
     "execution_count": 91,
     "metadata": {},
     "output_type": "execute_result"
    }
   ],
   "source": [
    "os.listdir()"
   ]
  },
  {
   "cell_type": "markdown",
   "id": "7ce1819d-40a9-48e6-9938-918c0f76f019",
   "metadata": {},
   "source": [
    "##### 44. Check the size of a file using os module."
   ]
  },
  {
   "cell_type": "code",
   "execution_count": 27,
   "id": "6cf16178-8968-4661-bdb7-eb19d6b793a4",
   "metadata": {},
   "outputs": [
    {
     "name": "stdout",
     "output_type": "stream",
     "text": [
      "File size of 123.txt is: 124 bytes\n"
     ]
    }
   ],
   "source": [
    "filename = \"123.txt\"\n",
    "size = os.path.getsize(filename)\n",
    "print(f\"File size of {filename} is: {size} bytes\")\n"
   ]
  },
  {
   "cell_type": "markdown",
   "id": "ed662fcd-59ac-425c-a8c7-61d9a7a899e6",
   "metadata": {},
   "source": [
    "##### 45. Count all .txt files in a directory."
   ]
  },
  {
   "cell_type": "code",
   "execution_count": 38,
   "id": "737605fc-84c6-422b-855f-fcd8d991b117",
   "metadata": {},
   "outputs": [
    {
     "name": "stdout",
     "output_type": "stream",
     "text": [
      "{3, '.txt files:'}\n"
     ]
    }
   ],
   "source": [
    "files = os.listdir()\n",
    "count = 0\n",
    "\n",
    "for f in files:\n",
    "    if f.endswith(\".txt\"):\n",
    "        count += 1\n",
    "result = {\".txt files:\", count}\n",
    "\n",
    "print(result)"
   ]
  },
  {
   "cell_type": "markdown",
   "id": "daf9435f-6030-4957-811e-2e6cdd86f4d6",
   "metadata": {},
   "source": [
    "### 10. Try-Exception (5 Questions)"
   ]
  },
  {
   "cell_type": "markdown",
   "id": "4e2ad856-4a7c-4ff6-a687-3654a254befe",
   "metadata": {},
   "source": [
    "##### 46. Write a program that takes user input and prints its square. Handle errors if input is invalid."
   ]
  },
  {
   "cell_type": "code",
   "execution_count": 42,
   "id": "4429eeee-462c-416c-aa7a-3167c4e5d462",
   "metadata": {},
   "outputs": [
    {
     "name": "stdin",
     "output_type": "stream",
     "text": [
      "Enter a number:  5\n"
     ]
    },
    {
     "name": "stdout",
     "output_type": "stream",
     "text": [
      "Square is: 25\n"
     ]
    }
   ],
   "source": [
    "try:\n",
    "    num = int(input(\"Enter a number: \"))\n",
    "    print(\"Square is:\", num**2)\n",
    "except ValueError:    # other then numbers (positive/Negative) it will consider invalid input\n",
    "    print(\"Invalid input! Please enter a number.\")"
   ]
  },
  {
   "cell_type": "markdown",
   "id": "2fbbf219-a861-4780-a4f0-484a375c3643",
   "metadata": {},
   "source": [
    "##### 47. Handle ZeroDivisionError with an example program."
   ]
  },
  {
   "cell_type": "code",
   "execution_count": 27,
   "id": "fa77f833-35c5-4af9-b749-528fc97c0829",
   "metadata": {},
   "outputs": [
    {
     "name": "stdin",
     "output_type": "stream",
     "text": [
      "Enter numerator:  5\n",
      "Enter denominator:  0\n"
     ]
    },
    {
     "name": "stdout",
     "output_type": "stream",
     "text": [
      "Error! Cannot divide by zero.\n"
     ]
    }
   ],
   "source": [
    "try:\n",
    "    a = int(input(\"Enter numerator: \"))\n",
    "    b = int(input(\"Enter denominator: \"))\n",
    "    result = a / b\n",
    "    print(\"Result:\", result)\n",
    "except ZeroDivisionError:\n",
    "    print(\"Error! Cannot divide by zero.\")"
   ]
  },
  {
   "cell_type": "markdown",
   "id": "4fb6aa26-1578-4538-b006-e0ce2b1dc7aa",
   "metadata": {},
   "source": [
    "##### 48. Handle FileNotFoundError with an example program."
   ]
  },
  {
   "cell_type": "code",
   "execution_count": 43,
   "id": "3f306ef8-1f62-487a-a451-befa1ce3e135",
   "metadata": {},
   "outputs": [
    {
     "name": "stdout",
     "output_type": "stream",
     "text": [
      "File not found!\n"
     ]
    }
   ],
   "source": [
    "try:\n",
    "    f = open(\"sample.txt\", \"r\")   \n",
    "    print(f.read())\n",
    "    f.close()\n",
    "except FileNotFoundError:\n",
    "    print(\"File not found!\")"
   ]
  },
  {
   "cell_type": "markdown",
   "id": "3894104d-e6ca-4508-b6be-bb566e01e4a1",
   "metadata": {},
   "source": [
    "##### 49. Handle both ValueError and TypeError with an example."
   ]
  },
  {
   "cell_type": "code",
   "execution_count": 52,
   "id": "25ee1586-6bca-4013-9a37-8e5e80884736",
   "metadata": {},
   "outputs": [
    {
     "name": "stdin",
     "output_type": "stream",
     "text": [
      "Enter a number:  5\n"
     ]
    },
    {
     "name": "stdout",
     "output_type": "stream",
     "text": [
      "TypeError: Cannot add number and string together!\n"
     ]
    }
   ],
   "source": [
    "try:\n",
    "    num = int(input(\"Enter a number: \"))   \n",
    "    result = num + \"5\"                     # this code will show the error \n",
    "    print(result)\n",
    "except ValueError:\n",
    "    print(\"ValueError: Please enter numbers only!\")\n",
    "except TypeError:\n",
    "    print(\"TypeError: Cannot add number and string together!\")"
   ]
  },
  {
   "cell_type": "markdown",
   "id": "a508041f-28ec-4edd-b7ed-36e75a275eec",
   "metadata": {},
   "source": [
    "##### 50. Write a program with finally block that opens and closes a file"
   ]
  },
  {
   "cell_type": "code",
   "execution_count": 53,
   "id": "409f2104-0d21-4ef9-b041-0e602178127e",
   "metadata": {},
   "outputs": [
    {
     "name": "stdout",
     "output_type": "stream",
     "text": [
      "File written successfully.\n",
      "File closed successfully.\n"
     ]
    }
   ],
   "source": [
    "try:\n",
    "    file = open(\"example.txt\", \"w\")\n",
    "    file.write(\"Hello, Python!\")\n",
    "    print(\"File written successfully.\")\n",
    "\n",
    "except Exception as e:\n",
    "    print(\"An error occurred:\", e)\n",
    "\n",
    "finally:\n",
    "    file.close()\n",
    "    print(\"File closed successfully.\")"
   ]
  },
  {
   "cell_type": "markdown",
   "id": "fd8f9b33-8a6b-40f6-ba14-77de1d4e4b8e",
   "metadata": {},
   "source": [
    "## END!!!"
   ]
  },
  {
   "cell_type": "code",
   "execution_count": null,
   "id": "6f1fe925-3ffb-40b7-aad1-dfb7faaaf9f1",
   "metadata": {},
   "outputs": [],
   "source": []
  }
 ],
 "metadata": {
  "kernelspec": {
   "display_name": "Python [conda env:base] *",
   "language": "python",
   "name": "conda-base-py"
  },
  "language_info": {
   "codemirror_mode": {
    "name": "ipython",
    "version": 3
   },
   "file_extension": ".py",
   "mimetype": "text/x-python",
   "name": "python",
   "nbconvert_exporter": "python",
   "pygments_lexer": "ipython3",
   "version": "3.13.5"
  }
 },
 "nbformat": 4,
 "nbformat_minor": 5
}
